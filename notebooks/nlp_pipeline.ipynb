{
 "cells": [
  {
   "cell_type": "code",
   "execution_count": null,
   "metadata": {},
   "outputs": [],
   "source": [
    "import warnings\n",
    "warnings.filterwarnings(\"ignore\")"
   ]
  },
  {
   "cell_type": "markdown",
   "metadata": {},
   "source": [
    "# Step 0: Cleaning Reviews"
   ]
  },
  {
   "cell_type": "code",
   "execution_count": 1,
   "metadata": {},
   "outputs": [
    {
     "data": {
      "text/html": [
       "<div>\n",
       "<style scoped>\n",
       "    .dataframe tbody tr th:only-of-type {\n",
       "        vertical-align: middle;\n",
       "    }\n",
       "\n",
       "    .dataframe tbody tr th {\n",
       "        vertical-align: top;\n",
       "    }\n",
       "\n",
       "    .dataframe thead th {\n",
       "        text-align: right;\n",
       "    }\n",
       "</style>\n",
       "<table border=\"1\" class=\"dataframe\">\n",
       "  <thead>\n",
       "    <tr style=\"text-align: right;\">\n",
       "      <th></th>\n",
       "      <th>id</th>\n",
       "      <th>name</th>\n",
       "      <th>location</th>\n",
       "      <th>country</th>\n",
       "      <th>latitude</th>\n",
       "      <th>longitude</th>\n",
       "      <th>distinctions</th>\n",
       "      <th>priceCategory</th>\n",
       "      <th>type</th>\n",
       "      <th>img</th>\n",
       "      <th>website_uri</th>\n",
       "      <th>google_rating</th>\n",
       "      <th>google_reviews</th>\n",
       "      <th>google_address</th>\n",
       "      <th>google_opening_hours</th>\n",
       "      <th>google_directions_link</th>\n",
       "      <th>reddit_reviews</th>\n",
       "    </tr>\n",
       "  </thead>\n",
       "  <tbody>\n",
       "    <tr>\n",
       "      <th>0</th>\n",
       "      <td>110681</td>\n",
       "      <td>One White Street</td>\n",
       "      <td>New York</td>\n",
       "      <td>USA</td>\n",
       "      <td>40.719355</td>\n",
       "      <td>-74.006101</td>\n",
       "      <td>1</td>\n",
       "      <td>4</td>\n",
       "      <td>Contemporary</td>\n",
       "      <td>https://axwwgrkdco.cloudimg.io/v7/__gmpics3__/...</td>\n",
       "      <td>https://www.onewhitestreetnyc.com/</td>\n",
       "      <td>4.4</td>\n",
       "      <td>[{\"name\": \"places/ChIJISXTwWJZwokRIok4xyMeb6g/...</td>\n",
       "      <td>1 White St, New York, NY 10013, USA</td>\n",
       "      <td>\"[{\\\"open\\\": {\\\"day\\\": 0, \\\"hour\\\": 17, \\\"minu...</td>\n",
       "      <td>https://www.google.com/maps/dir//''/data=!4m7!...</td>\n",
       "      <td>[{'title': 'NYC - (*) One White Street ', 'sel...</td>\n",
       "    </tr>\n",
       "    <tr>\n",
       "      <th>1</th>\n",
       "      <td>110644</td>\n",
       "      <td>Dirt Candy</td>\n",
       "      <td>New York</td>\n",
       "      <td>USA</td>\n",
       "      <td>40.717940</td>\n",
       "      <td>-73.990870</td>\n",
       "      <td>1</td>\n",
       "      <td>4</td>\n",
       "      <td>Vegetarian</td>\n",
       "      <td>https://axwwgrkdco.cloudimg.io/v7/__gmpics3__/...</td>\n",
       "      <td>http://www.dirtcandynyc.com/</td>\n",
       "      <td>4.6</td>\n",
       "      <td>[{\"name\": \"places/ChIJBXlte51ZwokRXzXtdaBG9xM/...</td>\n",
       "      <td>86 Allen St, New York, NY 10002, USA</td>\n",
       "      <td>\"[{\\\"open\\\": {\\\"day\\\": 2, \\\"hour\\\": 17, \\\"minu...</td>\n",
       "      <td>https://www.google.com/maps/dir//''/data=!4m7!...</td>\n",
       "      <td>[{'title': '[I Ate] Hand-Pulled Kale Noodles f...</td>\n",
       "    </tr>\n",
       "    <tr>\n",
       "      <th>2</th>\n",
       "      <td>110607</td>\n",
       "      <td>Family Meal at Blue Hill</td>\n",
       "      <td>New York</td>\n",
       "      <td>USA</td>\n",
       "      <td>40.731971</td>\n",
       "      <td>-73.999639</td>\n",
       "      <td>1</td>\n",
       "      <td>4</td>\n",
       "      <td>American</td>\n",
       "      <td>https://axwwgrkdco.cloudimg.io/v7/__gmpics3__/...</td>\n",
       "      <td>https://www.bluehillfarm.com/</td>\n",
       "      <td>4.6</td>\n",
       "      <td>[{\"name\": \"places/ChIJi9BURJFZwokRDcqvIgxdXds/...</td>\n",
       "      <td>75 Washington Pl, New York, NY 10011, USA</td>\n",
       "      <td>\"[{\\\"open\\\": {\\\"day\\\": 0, \\\"hour\\\": 11, \\\"minu...</td>\n",
       "      <td>https://www.google.com/maps/dir//''/data=!4m7!...</td>\n",
       "      <td>[{'title': 'NYC Dinner Rec - Friend’s Birthday...</td>\n",
       "    </tr>\n",
       "    <tr>\n",
       "      <th>3</th>\n",
       "      <td>110478</td>\n",
       "      <td>Blue Hill at Stone Barns</td>\n",
       "      <td>Tarrytown</td>\n",
       "      <td>USA</td>\n",
       "      <td>41.100715</td>\n",
       "      <td>-73.829297</td>\n",
       "      <td>2</td>\n",
       "      <td>4</td>\n",
       "      <td>American</td>\n",
       "      <td>https://axwwgrkdco.cloudimg.io/v7/__gmpics3__/...</td>\n",
       "      <td>https://www.bluehillfarm.com/</td>\n",
       "      <td>4.7</td>\n",
       "      <td>[{\"name\": \"places/ChIJExcPIfK_wokRtc6K_3jkhgM/...</td>\n",
       "      <td>630 Bedford Rd, Tarrytown, NY 10591, USA</td>\n",
       "      <td>\"[{\\\"open\\\": {\\\"day\\\": 0, \\\"hour\\\": 11, \\\"minu...</td>\n",
       "      <td>https://www.google.com/maps/dir//''/data=!4m7!...</td>\n",
       "      <td>[{'title': 'A farm-to-table feast like no othe...</td>\n",
       "    </tr>\n",
       "    <tr>\n",
       "      <th>4</th>\n",
       "      <td>110338</td>\n",
       "      <td>Oyster Oyster</td>\n",
       "      <td>Washington</td>\n",
       "      <td>USA</td>\n",
       "      <td>38.909302</td>\n",
       "      <td>-77.023015</td>\n",
       "      <td>1</td>\n",
       "      <td>3</td>\n",
       "      <td>Vegetarian</td>\n",
       "      <td>https://axwwgrkdco.cloudimg.io/v7/__gmpics3__/...</td>\n",
       "      <td>http://www.oysteroysterdc.com/</td>\n",
       "      <td>4.6</td>\n",
       "      <td>[{\"name\": \"places/ChIJQcHOEK-3t4kRbvsIP3ccItA/...</td>\n",
       "      <td>1440 8th St NW, Washington, DC 20001, USA</td>\n",
       "      <td>\"[{\\\"open\\\": {\\\"day\\\": 2, \\\"hour\\\": 17, \\\"minu...</td>\n",
       "      <td>https://www.google.com/maps/dir//''/data=!4m7!...</td>\n",
       "      <td>[{'title': '[homemade] Rigatoni with Black Gar...</td>\n",
       "    </tr>\n",
       "  </tbody>\n",
       "</table>\n",
       "</div>"
      ],
      "text/plain": [
       "       id                      name    location country   latitude  longitude  \\\n",
       "0  110681          One White Street    New York     USA  40.719355 -74.006101   \n",
       "1  110644                Dirt Candy    New York     USA  40.717940 -73.990870   \n",
       "2  110607  Family Meal at Blue Hill    New York     USA  40.731971 -73.999639   \n",
       "3  110478  Blue Hill at Stone Barns   Tarrytown     USA  41.100715 -73.829297   \n",
       "4  110338             Oyster Oyster  Washington     USA  38.909302 -77.023015   \n",
       "\n",
       "   distinctions  priceCategory          type  \\\n",
       "0             1              4  Contemporary   \n",
       "1             1              4    Vegetarian   \n",
       "2             1              4      American   \n",
       "3             2              4      American   \n",
       "4             1              3    Vegetarian   \n",
       "\n",
       "                                                 img  \\\n",
       "0  https://axwwgrkdco.cloudimg.io/v7/__gmpics3__/...   \n",
       "1  https://axwwgrkdco.cloudimg.io/v7/__gmpics3__/...   \n",
       "2  https://axwwgrkdco.cloudimg.io/v7/__gmpics3__/...   \n",
       "3  https://axwwgrkdco.cloudimg.io/v7/__gmpics3__/...   \n",
       "4  https://axwwgrkdco.cloudimg.io/v7/__gmpics3__/...   \n",
       "\n",
       "                          website_uri  google_rating  \\\n",
       "0  https://www.onewhitestreetnyc.com/            4.4   \n",
       "1        http://www.dirtcandynyc.com/            4.6   \n",
       "2       https://www.bluehillfarm.com/            4.6   \n",
       "3       https://www.bluehillfarm.com/            4.7   \n",
       "4      http://www.oysteroysterdc.com/            4.6   \n",
       "\n",
       "                                      google_reviews  \\\n",
       "0  [{\"name\": \"places/ChIJISXTwWJZwokRIok4xyMeb6g/...   \n",
       "1  [{\"name\": \"places/ChIJBXlte51ZwokRXzXtdaBG9xM/...   \n",
       "2  [{\"name\": \"places/ChIJi9BURJFZwokRDcqvIgxdXds/...   \n",
       "3  [{\"name\": \"places/ChIJExcPIfK_wokRtc6K_3jkhgM/...   \n",
       "4  [{\"name\": \"places/ChIJQcHOEK-3t4kRbvsIP3ccItA/...   \n",
       "\n",
       "                              google_address  \\\n",
       "0        1 White St, New York, NY 10013, USA   \n",
       "1       86 Allen St, New York, NY 10002, USA   \n",
       "2  75 Washington Pl, New York, NY 10011, USA   \n",
       "3   630 Bedford Rd, Tarrytown, NY 10591, USA   \n",
       "4  1440 8th St NW, Washington, DC 20001, USA   \n",
       "\n",
       "                                google_opening_hours  \\\n",
       "0  \"[{\\\"open\\\": {\\\"day\\\": 0, \\\"hour\\\": 17, \\\"minu...   \n",
       "1  \"[{\\\"open\\\": {\\\"day\\\": 2, \\\"hour\\\": 17, \\\"minu...   \n",
       "2  \"[{\\\"open\\\": {\\\"day\\\": 0, \\\"hour\\\": 11, \\\"minu...   \n",
       "3  \"[{\\\"open\\\": {\\\"day\\\": 0, \\\"hour\\\": 11, \\\"minu...   \n",
       "4  \"[{\\\"open\\\": {\\\"day\\\": 2, \\\"hour\\\": 17, \\\"minu...   \n",
       "\n",
       "                              google_directions_link  \\\n",
       "0  https://www.google.com/maps/dir//''/data=!4m7!...   \n",
       "1  https://www.google.com/maps/dir//''/data=!4m7!...   \n",
       "2  https://www.google.com/maps/dir//''/data=!4m7!...   \n",
       "3  https://www.google.com/maps/dir//''/data=!4m7!...   \n",
       "4  https://www.google.com/maps/dir//''/data=!4m7!...   \n",
       "\n",
       "                                      reddit_reviews  \n",
       "0  [{'title': 'NYC - (*) One White Street ', 'sel...  \n",
       "1  [{'title': '[I Ate] Hand-Pulled Kale Noodles f...  \n",
       "2  [{'title': 'NYC Dinner Rec - Friend’s Birthday...  \n",
       "3  [{'title': 'A farm-to-table feast like no othe...  \n",
       "4  [{'title': '[homemade] Rigatoni with Black Gar...  "
      ]
     },
     "execution_count": 1,
     "metadata": {},
     "output_type": "execute_result"
    }
   ],
   "source": [
    "import pandas as pd\n",
    "import json\n",
    "\n",
    "# Load the dataset\n",
    "file_path = '../data/processed/restaurants_with_reddit_reviews.csv'\n",
    "restaurants = pd.read_csv(file_path)\n",
    "\n",
    "# Apply cleaning to Google and Reddit reviews\n",
    "restaurants['google_reviews'] = restaurants['google_reviews'].apply(json.loads)\n",
    "restaurants['reddit_reviews'] = restaurants['reddit_reviews'].apply(json.loads)\n",
    "\n",
    "restaurants.head()"
   ]
  },
  {
   "cell_type": "markdown",
   "metadata": {},
   "source": [
    "## Google Reviews "
   ]
  },
  {
   "cell_type": "code",
   "execution_count": 2,
   "metadata": {},
   "outputs": [
    {
     "data": {
      "text/plain": [
       "'[{\"name\": \"places/ChIJISXTwWJZwokRIok4xyMeb6g/reviews/ChZDSUhNMG9nS0VJQ0FnSUMzOVl2SE5nEAE\", \"relativePublishTimeDescription\": \"a month ago\", \"rating\": 5, \"text\": {\"text\": \"One White Street  delivered great food and excellent service Everything we ate was fresh and delicious. The award-winning chefs use the best quality ingredients to produce dishes that are simply delightful. The restaurant also offers a wonderful drink menu, and they offer one of the best wines in the region. They get new menu every couple of months and make it more fun to try new dishes.\", \"languageCode\": \"en\"}, \"originalText\": {\"text\": \"One White Street  delivered great food and excellent service Everything we ate was fresh and delicious. The award-winning chefs use the best quality ingredients to produce dishes that are simply delightful. The restaurant also offers a wonderful drink menu, and they offer one of the best wines in the region. They get new menu every couple of months and make it more fun to try new dishes.\", \"languageCode\": \"en\"}, \"authorAttribution\": {\"displayName\": \"Muris and Diana Husremovic\", \"uri\": \"https://www.google.com/maps/contrib/102266871923752648019/reviews\", \"photoUri\": \"https://lh3.googleusercontent.com/a-/ALV-UjUAiX4xjX6h9GX0k9JU3cVWV6rkuwqwg-NCM7QMw7icwWy5oRngww=s128-c0x00000000-cc-rp-mo-ba2\"}, \"publishTime\": \"2024-11-07T21:53:43.158827Z\", \"flagContentUri\": \"https://www.google.com/local/review/rap/report?postId=ChZDSUhNMG9nS0VJQ0FnSUMzOVl2SE5nEAE&d=17924085&t=1\", \"googleMapsUri\": \"https://www.google.com/maps/reviews/data=!4m6!14m5!1m4!2m3!1sChZDSUhNMG9nS0VJQ0FnSUMzOVl2SE5nEAE!2m1!1s0x89c25962c1d32521:0xa86f1e23c7388922\"}, {\"name\": \"places/ChIJISXTwWJZwokRIok4xyMeb6g/reviews/ChZDSUhNMG9nS0VJQ0FnSURuOXZtdmNREAE\", \"relativePublishTimeDescription\": \"2 months ago\", \"rating\": 4, \"text\": {\"text\": \"Excellent food,full of flavor, creative and coming in large portions. Interesting wine selection but not offering lots of lower price. Cocktails were excellent. Nice atmosphere, not stuffy regardless of the Michelin star. The beef was incredible melting in the mouth\", \"languageCode\": \"en\"}, \"originalText\": {\"text\": \"Excellent food,full of flavor, creative and coming in large portions. Interesting wine selection but not offering lots of lower price. Cocktails were excellent. Nice atmosphere, not stuffy regardless of the Michelin star. The beef was incredible melting in the mouth\", \"languageCode\": \"en\"}, \"authorAttribution\": {\"displayName\": \"Nicolas Tahon\", \"uri\": \"https://www.google.com/maps/contrib/114137194410819240179/reviews\", \"photoUri\": \"https://lh3.googleusercontent.com/a/ACg8ocIoBRupSLte0EvuqMXBlgN07t158wXB_LERvArr2NO3vjNgeg=s128-c0x00000000-cc-rp-mo-ba4\"}, \"publishTime\": \"2024-10-05T19:12:24.134670Z\", \"flagContentUri\": \"https://www.google.com/local/review/rap/report?postId=ChZDSUhNMG9nS0VJQ0FnSURuOXZtdmNREAE&d=17924085&t=1\", \"googleMapsUri\": \"https://www.google.com/maps/reviews/data=!4m6!14m5!1m4!2m3!1sChZDSUhNMG9nS0VJQ0FnSURuOXZtdmNREAE!2m1!1s0x89c25962c1d32521:0xa86f1e23c7388922\"}, {\"name\": \"places/ChIJISXTwWJZwokRIok4xyMeb6g/reviews/ChZDSUhNMG9nS0VJQ0FnSUQzbS1yOVlBEAE\", \"relativePublishTimeDescription\": \"3 weeks ago\", \"rating\": 2, \"text\": {\"text\": \"This restaurant falls short of the standards expected from a 1 Michelin-star establishment. It\\'s hard to understand how it earned such a distinction.\\\\n\\\\n**Service:** Our reservation for 8:15 PM was not honored, and we were only seated at 8:50 PM. A more professional approach would have been to manage table turnover more efficiently, ensuring all guests\\' reservation times are respected. They did comp us 2 drinks for the wait which was nice.\\\\n\\\\n**Food:** While the dishes were good for a major city, they lacked the \\\\\"wow\\\\\" factor that should define a Michelin-starred experience. At ~$183 USD per person (including taxes), the value for money was disappointing. For example, the exterior of the sourdough bread was so hard that it was difficult to cut with the provided steak knife.\\\\n\\\\nThe monkfish was the standout dish, but even that didn\\\\u2019t elevate the overall experience. Neither of us finished the dessert, which was underwhelming.\\\\n\\\\n**Value:** If the price point were closer to $60\\\\u2013$70 per person, the meal might warrant a 4/5 rating. However, at $180+, the experience leaves you feeling let down and overcharged.\\\\n\\\\nIn summary, this restaurant does not live up to the expectations set by its Michelin star, particularly given the high price tag.\", \"languageCode\": \"en\"}, \"originalText\": {\"text\": \"This restaurant falls short of the standards expected from a 1 Michelin-star establishment. It\\'s hard to understand how it earned such a distinction.\\\\n\\\\n**Service:** Our reservation for 8:15 PM was not honored, and we were only seated at 8:50 PM. A more professional approach would have been to manage table turnover more efficiently, ensuring all guests\\' reservation times are respected. They did comp us 2 drinks for the wait which was nice.\\\\n\\\\n**Food:** While the dishes were good for a major city, they lacked the \\\\\"wow\\\\\" factor that should define a Michelin-starred experience. At ~$183 USD per person (including taxes), the value for money was disappointing. For example, the exterior of the sourdough bread was so hard that it was difficult to cut with the provided steak knife.\\\\n\\\\nThe monkfish was the standout dish, but even that didn\\\\u2019t elevate the overall experience. Neither of us finished the dessert, which was underwhelming.\\\\n\\\\n**Value:** If the price point were closer to $60\\\\u2013$70 per person, the meal might warrant a 4/5 rating. However, at $180+, the experience leaves you feeling let down and overcharged.\\\\n\\\\nIn summary, this restaurant does not live up to the expectations set by its Michelin star, particularly given the high price tag.\", \"languageCode\": \"en\"}, \"authorAttribution\": {\"displayName\": \"D H\", \"uri\": \"https://www.google.com/maps/contrib/107762758051638759293/reviews\", \"photoUri\": \"https://lh3.googleusercontent.com/a/ACg8ocLuFV4hamev7DwbEw-c_yDeaVppT5eyZuhWLoM2aaGGoQ8vbw=s128-c0x00000000-cc-rp-mo-ba5\"}, \"publishTime\": \"2024-11-19T05:15:20.893841Z\", \"flagContentUri\": \"https://www.google.com/local/review/rap/report?postId=ChZDSUhNMG9nS0VJQ0FnSUQzbS1yOVlBEAE&d=17924085&t=1\", \"googleMapsUri\": \"https://www.google.com/maps/reviews/data=!4m6!14m5!1m4!2m3!1sChZDSUhNMG9nS0VJQ0FnSUQzbS1yOVlBEAE!2m1!1s0x89c25962c1d32521:0xa86f1e23c7388922\"}, {\"name\": \"places/ChIJISXTwWJZwokRIok4xyMeb6g/reviews/ChZDSUhNMG9nS0VJQ0FnSUQ3NHRubGJBEAE\", \"relativePublishTimeDescription\": \"3 months ago\", \"rating\": 5, \"text\": {\"text\": \"Wow!!!!! One of my favorite dining experiences I\\\\u2019ve had in NYC. I picked this place last second by searching for Michelin star restaurants near where I was staying for evening. The tasting menu is really something special - especially accompanied with the wine pairings. We were blown away by some feature every course. More than that though, the service was spectacular. Every server was attentive and enthusiastic. The somm, in particular, is unique. A wonderful combination of deep knowledge and vibrant enthusiasm. Thank you for a great evening!\", \"languageCode\": \"en\"}, \"originalText\": {\"text\": \"Wow!!!!! One of my favorite dining experiences I\\\\u2019ve had in NYC. I picked this place last second by searching for Michelin star restaurants near where I was staying for evening. The tasting menu is really something special - especially accompanied with the wine pairings. We were blown away by some feature every course. More than that though, the service was spectacular. Every server was attentive and enthusiastic. The somm, in particular, is unique. A wonderful combination of deep knowledge and vibrant enthusiasm. Thank you for a great evening!\", \"languageCode\": \"en\"}, \"authorAttribution\": {\"displayName\": \"Ya\\'el Carmel\", \"uri\": \"https://www.google.com/maps/contrib/111271311230783441938/reviews\", \"photoUri\": \"https://lh3.googleusercontent.com/a-/ALV-UjXqpLH22n6nODZlHEB5wn1edRxwpzdByXh69qnC6Iw1R0H6e0juFA=s128-c0x00000000-cc-rp-mo-ba5\"}, \"publishTime\": \"2024-08-22T20:00:06.258768Z\", \"flagContentUri\": \"https://www.google.com/local/review/rap/report?postId=ChZDSUhNMG9nS0VJQ0FnSUQ3NHRubGJBEAE&d=17924085&t=1\", \"googleMapsUri\": \"https://www.google.com/maps/reviews/data=!4m6!14m5!1m4!2m3!1sChZDSUhNMG9nS0VJQ0FnSUQ3NHRubGJBEAE!2m1!1s0x89c25962c1d32521:0xa86f1e23c7388922\"}, {\"name\": \"places/ChIJISXTwWJZwokRIok4xyMeb6g/reviews/ChdDSUhNMG9nS0VJQ0FnSURydk5Ea3hRRRAB\", \"relativePublishTimeDescription\": \"4 months ago\", \"rating\": 4, \"text\": {\"text\": \"Amazing! Will definitely come back. Went for dinner and it was so nice. The atmosphere is a little loud but not too noisy, which gives you a very comfortable feeling. The service was also incredible. Our waiter was so friendly and attentive.\\\\n\\\\nIt was pure joy and delight eating there. When I thought I had just found my favourite dish, the next dish was even better! We ordered the chilled foie gras, seared scallops, honey roasted duck, Rigor Hill farm summer squash, and strawberry shortcake. Let me just mention the bread quickly: the most delicious bread I have. Ever. Had. It was unbelievably soft and buttery, and the pumpkin seeds on top added was a nice crunch! Also normally I detest seafood, which includes scallops. However, the way One White Street cooked the scallops and the sauce they added really made a huge difference! (I would fly to NYC again just to have their scallops.) The summer squash was also incredible. There is just no other word to describe it! (I would fly back for the squash too!) All the dishes\\\\u2019 flavours played perfectly with each other, making this meal a real treat.\\\\n\\\\nThe only thing about my experience is that the dessert was way too sugary. The whipped mascarpone and honey and caramel ice cream made the strawberry shortcake incredibly sweet. The shortcake itself was also very hard to bite into, not sure if it was meant to be like that. Though all the savoury dishes were so incredible, this unpleasant dessert left a bad taste on my tongue (literally and figuratively).\\\\n\\\\nOverall, it\\\\u2019s still an amazing restaurant and I would definitely make time out of my schedule just to eat there! Would highly recommend if you\\\\u2019re in NYC.\", \"languageCode\": \"en\"}, \"originalText\": {\"text\": \"Amazing! Will definitely come back. Went for dinner and it was so nice. The atmosphere is a little loud but not too noisy, which gives you a very comfortable feeling. The service was also incredible. Our waiter was so friendly and attentive.\\\\n\\\\nIt was pure joy and delight eating there. When I thought I had just found my favourite dish, the next dish was even better! We ordered the chilled foie gras, seared scallops, honey roasted duck, Rigor Hill farm summer squash, and strawberry shortcake. Let me just mention the bread quickly: the most delicious bread I have. Ever. Had. It was unbelievably soft and buttery, and the pumpkin seeds on top added was a nice crunch! Also normally I detest seafood, which includes scallops. However, the way One White Street cooked the scallops and the sauce they added really made a huge difference! (I would fly to NYC again just to have their scallops.) The summer squash was also incredible. There is just no other word to describe it! (I would fly back for the squash too!) All the dishes\\\\u2019 flavours played perfectly with each other, making this meal a real treat.\\\\n\\\\nThe only thing about my experience is that the dessert was way too sugary. The whipped mascarpone and honey and caramel ice cream made the strawberry shortcake incredibly sweet. The shortcake itself was also very hard to bite into, not sure if it was meant to be like that. Though all the savoury dishes were so incredible, this unpleasant dessert left a bad taste on my tongue (literally and figuratively).\\\\n\\\\nOverall, it\\\\u2019s still an amazing restaurant and I would definitely make time out of my schedule just to eat there! Would highly recommend if you\\\\u2019re in NYC.\", \"languageCode\": \"en\"}, \"authorAttribution\": {\"displayName\": \"Arsene Zhu\", \"uri\": \"https://www.google.com/maps/contrib/116664676222806705339/reviews\", \"photoUri\": \"https://lh3.googleusercontent.com/a-/ALV-UjXAt8Y2YE-T01Z73XSqn5Qr0kimTguoMWb-v-AvGL4S_wUfFmqQ=s128-c0x00000000-cc-rp-mo-ba3\"}, \"publishTime\": \"2024-07-17T17:18:46.227649Z\", \"flagContentUri\": \"https://www.google.com/local/review/rap/report?postId=ChdDSUhNMG9nS0VJQ0FnSURydk5Ea3hRRRAB&d=17924085&t=1\", \"googleMapsUri\": \"https://www.google.com/maps/reviews/data=!4m6!14m5!1m4!2m3!1sChdDSUhNMG9nS0VJQ0FnSURydk5Ea3hRRRAB!2m1!1s0x89c25962c1d32521:0xa86f1e23c7388922\"}]'"
      ]
     },
     "execution_count": 2,
     "metadata": {},
     "output_type": "execute_result"
    }
   ],
   "source": [
    "test_google = restaurants['google_reviews'][0]\n",
    "test_google"
   ]
  },
  {
   "cell_type": "code",
   "execution_count": 3,
   "metadata": {},
   "outputs": [
    {
     "data": {
      "text/plain": [
       "{'name': 'places/ChIJISXTwWJZwokRIok4xyMeb6g/reviews/ChZDSUhNMG9nS0VJQ0FnSUMzOVl2SE5nEAE',\n",
       " 'relativePublishTimeDescription': 'a month ago',\n",
       " 'rating': 5,\n",
       " 'text': {'text': 'One White Street  delivered great food and excellent service Everything we ate was fresh and delicious. The award-winning chefs use the best quality ingredients to produce dishes that are simply delightful. The restaurant also offers a wonderful drink menu, and they offer one of the best wines in the region. They get new menu every couple of months and make it more fun to try new dishes.',\n",
       "  'languageCode': 'en'},\n",
       " 'originalText': {'text': 'One White Street  delivered great food and excellent service Everything we ate was fresh and delicious. The award-winning chefs use the best quality ingredients to produce dishes that are simply delightful. The restaurant also offers a wonderful drink menu, and they offer one of the best wines in the region. They get new menu every couple of months and make it more fun to try new dishes.',\n",
       "  'languageCode': 'en'},\n",
       " 'authorAttribution': {'displayName': 'Muris and Diana Husremovic',\n",
       "  'uri': 'https://www.google.com/maps/contrib/102266871923752648019/reviews',\n",
       "  'photoUri': 'https://lh3.googleusercontent.com/a-/ALV-UjUAiX4xjX6h9GX0k9JU3cVWV6rkuwqwg-NCM7QMw7icwWy5oRngww=s128-c0x00000000-cc-rp-mo-ba2'},\n",
       " 'publishTime': '2024-11-07T21:53:43.158827Z',\n",
       " 'flagContentUri': 'https://www.google.com/local/review/rap/report?postId=ChZDSUhNMG9nS0VJQ0FnSUMzOVl2SE5nEAE&d=17924085&t=1',\n",
       " 'googleMapsUri': 'https://www.google.com/maps/reviews/data=!4m6!14m5!1m4!2m3!1sChZDSUhNMG9nS0VJQ0FnSUMzOVl2SE5nEAE!2m1!1s0x89c25962c1d32521:0xa86f1e23c7388922'}"
      ]
     },
     "execution_count": 3,
     "metadata": {},
     "output_type": "execute_result"
    }
   ],
   "source": [
    "json.loads(test_google)[0]"
   ]
  },
  {
   "cell_type": "code",
   "execution_count": 4,
   "metadata": {},
   "outputs": [
    {
     "data": {
      "text/plain": [
       "['One White Street  delivered great food and excellent service Everything we ate was fresh and delicious. The award-winning chefs use the best quality ingredients to produce dishes that are simply delightful. The restaurant also offers a wonderful drink menu, and they offer one of the best wines in the region. They get new menu every couple of months and make it more fun to try new dishes.',\n",
       " 'Excellent food,full of flavor, creative and coming in large portions. Interesting wine selection but not offering lots of lower price. Cocktails were excellent. Nice atmosphere, not stuffy regardless of the Michelin star. The beef was incredible melting in the mouth',\n",
       " 'This restaurant falls short of the standards expected from a 1 Michelin-star establishment. It\\'s hard to understand how it earned such a distinction.\\n\\n**Service:** Our reservation for 8:15 PM was not honored, and we were only seated at 8:50 PM. A more professional approach would have been to manage table turnover more efficiently, ensuring all guests\\' reservation times are respected. They did comp us 2 drinks for the wait which was nice.\\n\\n**Food:** While the dishes were good for a major city, they lacked the \"wow\" factor that should define a Michelin-starred experience. At ~$183 USD per person (including taxes), the value for money was disappointing. For example, the exterior of the sourdough bread was so hard that it was difficult to cut with the provided steak knife.\\n\\nThe monkfish was the standout dish, but even that didn’t elevate the overall experience. Neither of us finished the dessert, which was underwhelming.\\n\\n**Value:** If the price point were closer to $60–$70 per person, the meal might warrant a 4/5 rating. However, at $180+, the experience leaves you feeling let down and overcharged.\\n\\nIn summary, this restaurant does not live up to the expectations set by its Michelin star, particularly given the high price tag.',\n",
       " 'Wow!!!!! One of my favorite dining experiences I’ve had in NYC. I picked this place last second by searching for Michelin star restaurants near where I was staying for evening. The tasting menu is really something special - especially accompanied with the wine pairings. We were blown away by some feature every course. More than that though, the service was spectacular. Every server was attentive and enthusiastic. The somm, in particular, is unique. A wonderful combination of deep knowledge and vibrant enthusiasm. Thank you for a great evening!',\n",
       " 'Amazing! Will definitely come back. Went for dinner and it was so nice. The atmosphere is a little loud but not too noisy, which gives you a very comfortable feeling. The service was also incredible. Our waiter was so friendly and attentive.\\n\\nIt was pure joy and delight eating there. When I thought I had just found my favourite dish, the next dish was even better! We ordered the chilled foie gras, seared scallops, honey roasted duck, Rigor Hill farm summer squash, and strawberry shortcake. Let me just mention the bread quickly: the most delicious bread I have. Ever. Had. It was unbelievably soft and buttery, and the pumpkin seeds on top added was a nice crunch! Also normally I detest seafood, which includes scallops. However, the way One White Street cooked the scallops and the sauce they added really made a huge difference! (I would fly to NYC again just to have their scallops.) The summer squash was also incredible. There is just no other word to describe it! (I would fly back for the squash too!) All the dishes’ flavours played perfectly with each other, making this meal a real treat.\\n\\nThe only thing about my experience is that the dessert was way too sugary. The whipped mascarpone and honey and caramel ice cream made the strawberry shortcake incredibly sweet. The shortcake itself was also very hard to bite into, not sure if it was meant to be like that. Though all the savoury dishes were so incredible, this unpleasant dessert left a bad taste on my tongue (literally and figuratively).\\n\\nOverall, it’s still an amazing restaurant and I would definitely make time out of my schedule just to eat there! Would highly recommend if you’re in NYC.']"
      ]
     },
     "execution_count": 4,
     "metadata": {},
     "output_type": "execute_result"
    }
   ],
   "source": [
    "reviews = [review[\"text\"][\"text\"] for review in json.loads(test_google)]\n",
    "reviews"
   ]
  },
  {
   "cell_type": "code",
   "execution_count": 5,
   "metadata": {},
   "outputs": [],
   "source": [
    "def get_google_reviews(google_reviews):\n",
    "    return [review[\"text\"][\"text\"] for review in google_reviews]"
   ]
  },
  {
   "cell_type": "code",
   "execution_count": 6,
   "metadata": {},
   "outputs": [
    {
     "data": {
      "text/plain": [
       "[{'source': 'Google',\n",
       "  'author': 'Muris and Diana Husremovic',\n",
       "  'rating': 5,\n",
       "  'text': 'One White Street  delivered great food and excellent service Everything we ate was fresh and delicious. The award-winning chefs use the best quality ingredients to produce dishes that are simply delightful. The restaurant also offers a wonderful drink menu, and they offer one of the best wines in the region. They get new menu every couple of months and make it more fun to try new dishes.',\n",
       "  'timestamp': datetime.datetime(2024, 11, 7, 21, 53, 43, 158827, tzinfo=datetime.timezone.utc)},\n",
       " {'source': 'Google',\n",
       "  'author': 'Nicolas Tahon',\n",
       "  'rating': 4,\n",
       "  'text': 'Excellent food,full of flavor, creative and coming in large portions. Interesting wine selection but not offering lots of lower price. Cocktails were excellent. Nice atmosphere, not stuffy regardless of the Michelin star. The beef was incredible melting in the mouth',\n",
       "  'timestamp': datetime.datetime(2024, 10, 5, 19, 12, 24, 134670, tzinfo=datetime.timezone.utc)},\n",
       " {'source': 'Google',\n",
       "  'author': 'D H',\n",
       "  'rating': 2,\n",
       "  'text': 'This restaurant falls short of the standards expected from a 1 Michelin-star establishment. It\\'s hard to understand how it earned such a distinction.\\n\\n**Service:** Our reservation for 8:15 PM was not honored, and we were only seated at 8:50 PM. A more professional approach would have been to manage table turnover more efficiently, ensuring all guests\\' reservation times are respected. They did comp us 2 drinks for the wait which was nice.\\n\\n**Food:** While the dishes were good for a major city, they lacked the \"wow\" factor that should define a Michelin-starred experience. At ~$183 USD per person (including taxes), the value for money was disappointing. For example, the exterior of the sourdough bread was so hard that it was difficult to cut with the provided steak knife.\\n\\nThe monkfish was the standout dish, but even that didn’t elevate the overall experience. Neither of us finished the dessert, which was underwhelming.\\n\\n**Value:** If the price point were closer to $60–$70 per person, the meal might warrant a 4/5 rating. However, at $180+, the experience leaves you feeling let down and overcharged.\\n\\nIn summary, this restaurant does not live up to the expectations set by its Michelin star, particularly given the high price tag.',\n",
       "  'timestamp': datetime.datetime(2024, 11, 19, 5, 15, 20, 893841, tzinfo=datetime.timezone.utc)},\n",
       " {'source': 'Google',\n",
       "  'author': \"Ya'el Carmel\",\n",
       "  'rating': 5,\n",
       "  'text': 'Wow!!!!! One of my favorite dining experiences I’ve had in NYC. I picked this place last second by searching for Michelin star restaurants near where I was staying for evening. The tasting menu is really something special - especially accompanied with the wine pairings. We were blown away by some feature every course. More than that though, the service was spectacular. Every server was attentive and enthusiastic. The somm, in particular, is unique. A wonderful combination of deep knowledge and vibrant enthusiasm. Thank you for a great evening!',\n",
       "  'timestamp': datetime.datetime(2024, 8, 22, 20, 0, 6, 258768, tzinfo=datetime.timezone.utc)},\n",
       " {'source': 'Google',\n",
       "  'author': 'Arsene Zhu',\n",
       "  'rating': 4,\n",
       "  'text': 'Amazing! Will definitely come back. Went for dinner and it was so nice. The atmosphere is a little loud but not too noisy, which gives you a very comfortable feeling. The service was also incredible. Our waiter was so friendly and attentive.\\n\\nIt was pure joy and delight eating there. When I thought I had just found my favourite dish, the next dish was even better! We ordered the chilled foie gras, seared scallops, honey roasted duck, Rigor Hill farm summer squash, and strawberry shortcake. Let me just mention the bread quickly: the most delicious bread I have. Ever. Had. It was unbelievably soft and buttery, and the pumpkin seeds on top added was a nice crunch! Also normally I detest seafood, which includes scallops. However, the way One White Street cooked the scallops and the sauce they added really made a huge difference! (I would fly to NYC again just to have their scallops.) The summer squash was also incredible. There is just no other word to describe it! (I would fly back for the squash too!) All the dishes’ flavours played perfectly with each other, making this meal a real treat.\\n\\nThe only thing about my experience is that the dessert was way too sugary. The whipped mascarpone and honey and caramel ice cream made the strawberry shortcake incredibly sweet. The shortcake itself was also very hard to bite into, not sure if it was meant to be like that. Though all the savoury dishes were so incredible, this unpleasant dessert left a bad taste on my tongue (literally and figuratively).\\n\\nOverall, it’s still an amazing restaurant and I would definitely make time out of my schedule just to eat there! Would highly recommend if you’re in NYC.',\n",
       "  'timestamp': datetime.datetime(2024, 7, 17, 17, 18, 46, 227649, tzinfo=datetime.timezone.utc)}]"
      ]
     },
     "execution_count": 6,
     "metadata": {},
     "output_type": "execute_result"
    }
   ],
   "source": [
    "from datetime import datetime\n",
    "\n",
    "# Parse Google reviews\n",
    "def parse_google_reviews(google_reviews):\n",
    "    try:\n",
    "        reviews = json.loads(google_reviews.replace('\"\"', '\"'))\n",
    "        return [\n",
    "            {\n",
    "                \"source\": \"Google\",\n",
    "                \"author\": review.get(\"authorAttribution\", {}).get(\"displayName\", \"Unknown\"),\n",
    "                \"rating\": review.get(\"rating\", None),\n",
    "                \"text\": review.get(\"text\", {}).get(\"text\", \"\"),\n",
    "                \"timestamp\": datetime.fromisoformat(review.get(\"publishTime\", \"1970-01-01T00:00:00Z\")),\n",
    "            }\n",
    "            for review in reviews\n",
    "        ]\n",
    "    except (ValueError, TypeError):\n",
    "        return []\n",
    "\n",
    "parse_google_reviews(test_google)"
   ]
  },
  {
   "cell_type": "markdown",
   "metadata": {},
   "source": [
    "## Reddit Reviews"
   ]
  },
  {
   "cell_type": "code",
   "execution_count": 7,
   "metadata": {},
   "outputs": [
    {
     "data": {
      "text/plain": [
       "id                                                                   110681\n",
       "name                                                       One White Street\n",
       "location                                                           New York\n",
       "country                                                                 USA\n",
       "latitude                                                          40.719355\n",
       "longitude                                                        -74.006101\n",
       "distinctions                                                              1\n",
       "priceCategory                                                             4\n",
       "type                                                           Contemporary\n",
       "img                       https://axwwgrkdco.cloudimg.io/v7/__gmpics3__/...\n",
       "website_uri                              https://www.onewhitestreetnyc.com/\n",
       "google_rating                                                           4.4\n",
       "google_reviews            [{\"name\": \"places/ChIJISXTwWJZwokRIok4xyMeb6g/...\n",
       "google_address                          1 White St, New York, NY 10013, USA\n",
       "google_opening_hours      \"[{\\\"open\\\": {\\\"day\\\": 0, \\\"hour\\\": 17, \\\"minu...\n",
       "google_directions_link    https://www.google.com/maps/dir//''/data=!4m7!...\n",
       "reddit_reviews            [{'title': 'NYC - (*) One White Street ', 'sel...\n",
       "Name: 0, dtype: object"
      ]
     },
     "execution_count": 7,
     "metadata": {},
     "output_type": "execute_result"
    }
   ],
   "source": [
    "test_reddit = restaurants.iloc[0]\n",
    "test_reddit"
   ]
  },
  {
   "cell_type": "code",
   "execution_count": 8,
   "metadata": {},
   "outputs": [
    {
     "data": {
      "text/plain": [
       "[{'title': 'NYC - (*) One White Street ',\n",
       "  'selftext': \"one white street (*) \\n\\nThe walk in is very nice experience.\\nBeautiful three stories of dining rooms. \\nThe service was amazing and attentive. The Somm was knowledgeable and friendly to speak with, answering all questions from simple novice questions to more complex curious questions. \\n\\n1. Foie Gras - citrus explosion. The liver was rich and paired perfectly with the bottle of wine we chose after speaking with the Somm. The fat and citrus really paired well with each other, cutting down on the foie's lingering effect on the mouth\\n\\n2. American Wagyu with a Fried puff potato. I had a taste of this from my Fiancé. To me this really was a case of order regret. I wanted to switch out my plate with hers. The steak was cooked perfectly as to not disturb the middle of the marbling during cooking. just right enough heat to get the inside juices flowing. Delicate inside fat flavor yet strong flavor on the charred outside. The fried potato ball had an internal surprise with a bit of cinnamon spice and other spices inside. \\n\\n3. The Duck - what a dish! two dishes! One was a bowl of grains and duck sausage. Mild sausage flavor, yet tinder and easy to cut. really felt like two meals in one. the actual roasted duck breast was juicy and salted perfectly as the fat melted in mouth. The beets, which i'm not normally a fan of really paired well with the duck. The beats were roasted and really easy to cut into. Highly recommend this dish.\\n\\n4. The trio in house sorbets. Grape, Cranberry, and apple cider. - perfect way to cut the meal and fat. Really bright. Made our mouths water. \\n\\n 5.  The wine, 2020 Proprietary Blend, white, DOMAINE DE LA RANGE DES PÈRES. Coming in at a thick 14% drank like a red. hardy white with a very bright Gold color. I chose this and the Somm agreed, which is always a nice feeling. He chose to decant this wine and keep it on ice for us. Pouring us refreshed glasses at the right time during our meal as to make sure we had enough till the end of our meal.\\n\\n6. Not pictured was a after dinner wine - dessert wine - lighter and brighter than the dinner's wine\\n\\n7. Cost: 800 + tip. \\n\\nrating: 8/10 - would go back again. \",\n",
       "  'score': 13,\n",
       "  'comments': ['Looks excellent. I assume the alcohol was why this meal came out quite expensive?',\n",
       "   'Forgot to post the Sorbet. \\n\\n[Sorbet](https://imgur.com/a/KhvnK30)',\n",
       "   '1WS is highly under rated']},\n",
       " {'title': 'One White Street or Le Jardinier',\n",
       "  'selftext': 'Looking to do an a la carte amazing meal for a friend visiting that loves to try new Michelin spots. Between One White Street and Le Jardinier right now. Does anyone have a perspective on either?',\n",
       "  'score': 8,\n",
       "  'comments': ['It\\'s not just \"a cozy townhouse\" but it\\'s a cozy townhouse that John Lennon and Yoko Ono once resided in.',\n",
       "   \"Le Jardinier is a bit more fussy, whereas One White Street a la carte feels more like Gramercy Tavern. I think bite for bite I enjoyed One White St more, but also Le Jardinier's food was all perfectly executed and really lovely if you wanted something that felt more elevated vs cozy\",\n",
       "   'They’re both really solid food wise. Vibe is better at One White, cozy townhouse. Jardinier is in midtown area where there might not be much to do afterwards.',\n",
       "   'Has anyone here been to Musket Room or Noortwyck?',\n",
       "   '[deleted]',\n",
       "   \"One White Street was very good when I went in the summer. Menu is super seasonal so can't help you with dishes. It's in a Tribeca townhouse so pretty quaint. 2nd floor dining room is nicely appointed. Haven't been to Le Jardinier but the photos show that to be a much larger space so depends on the environment you want as well.\"]},\n",
       " {'title': 'Visiting NYC for a day help to choose one : Contra OR One White Street',\n",
       "  'selftext': 'Would love to know if anyone here has been to any or both , which one would you choose of the two restaurants. \\n\\n1. Contra \\n2. One White Street ',\n",
       "  'score': 5,\n",
       "  'comments': ['Haven’t been to one white street but did love my meal at contra!',\n",
       "   \"Big thumbs down to One White Street. We had the loudest table next to us and could barely talk to each other let alone the staff explain the courses to us. When we pointed it out, they didnt do anything about it.\\n\\nHad such an unpleasant experience that we couldn't even enjoy the food as intended. This was a expensive meal for me since I paid for a few people, as it was my treat and I often think about the massive sense of regret I felt that night.\",\n",
       "   '2',\n",
       "   'I’ve had a lovely meal at One White Street.',\n",
       "   'Haven’t been, but White street is on my list!',\n",
       "   \"I've been to both! One White Street is a little more classic, Contra will have some more risk taking and interesting dishes. At a similar price point, I much prefer Oxalis in brooklyn. But I know you weren't asking that :) \\n\\n&#x200B;\\n\\nI tend to say Contra if you haven't been.\"]}]"
      ]
     },
     "execution_count": 8,
     "metadata": {},
     "output_type": "execute_result"
    }
   ],
   "source": [
    "test_reddit['reddit_reviews']"
   ]
  },
  {
   "cell_type": "code",
   "execution_count": 9,
   "metadata": {},
   "outputs": [
    {
     "data": {
      "text/plain": [
       "\"one white street (*) \\n\\nThe walk in is very nice experience.\\nBeautiful three stories of dining rooms. \\nThe service was amazing and attentive. The Somm was knowledgeable and friendly to speak with, answering all questions from simple novice questions to more complex curious questions. \\n\\n1. Foie Gras - citrus explosion. The liver was rich and paired perfectly with the bottle of wine we chose after speaking with the Somm. The fat and citrus really paired well with each other, cutting down on the foie's lingering effect on the mouth\\n\\n2. American Wagyu with a Fried puff potato. I had a taste of this from my Fiancé. To me this really was a case of order regret. I wanted to switch out my plate with hers. The steak was cooked perfectly as to not disturb the middle of the marbling during cooking. just right enough heat to get the inside juices flowing. Delicate inside fat flavor yet strong flavor on the charred outside. The fried potato ball had an internal surprise with a bit of cinnamon spice and other spices inside. \\n\\n3. The Duck - what a dish! two dishes! One was a bowl of grains and duck sausage. Mild sausage flavor, yet tinder and easy to cut. really felt like two meals in one. the actual roasted duck breast was juicy and salted perfectly as the fat melted in mouth. The beets, which i'm not normally a fan of really paired well with the duck. The beats were roasted and really easy to cut into. Highly recommend this dish.\\n\\n4. The trio in house sorbets. Grape, Cranberry, and apple cider. - perfect way to cut the meal and fat. Really bright. Made our mouths water. \\n\\n 5.  The wine, 2020 Proprietary Blend, white, DOMAINE DE LA RANGE DES PÈRES. Coming in at a thick 14% drank like a red. hardy white with a very bright Gold color. I chose this and the Somm agreed, which is always a nice feeling. He chose to decant this wine and keep it on ice for us. Pouring us refreshed glasses at the right time during our meal as to make sure we had enough till the end of our meal.\\n\\n6. Not pictured was a after dinner wine - dessert wine - lighter and brighter than the dinner's wine\\n\\n7. Cost: 800 + tip. \\n\\nrating: 8/10 - would go back again. \""
      ]
     },
     "execution_count": 9,
     "metadata": {},
     "output_type": "execute_result"
    }
   ],
   "source": [
    "test_reddit['reddit_reviews'][0]['selftext']"
   ]
  },
  {
   "cell_type": "code",
   "execution_count": 11,
   "metadata": {},
   "outputs": [
    {
     "data": {
      "text/plain": [
       "[{'title': 'NYC - (*) One White Street ',\n",
       "  'selftext': \"one white street (*) \\n\\nThe walk in is very nice experience.\\nBeautiful three stories of dining rooms. \\nThe service was amazing and attentive. The Somm was knowledgeable and friendly to speak with, answering all questions from simple novice questions to more complex curious questions. \\n\\n1. Foie Gras - citrus explosion. The liver was rich and paired perfectly with the bottle of wine we chose after speaking with the Somm. The fat and citrus really paired well with each other, cutting down on the foie's lingering effect on the mouth\\n\\n2. American Wagyu with a Fried puff potato. I had a taste of this from my Fiancé. To me this really was a case of order regret. I wanted to switch out my plate with hers. The steak was cooked perfectly as to not disturb the middle of the marbling during cooking. just right enough heat to get the inside juices flowing. Delicate inside fat flavor yet strong flavor on the charred outside. The fried potato ball had an internal surprise with a bit of cinnamon spice and other spices inside. \\n\\n3. The Duck - what a dish! two dishes! One was a bowl of grains and duck sausage. Mild sausage flavor, yet tinder and easy to cut. really felt like two meals in one. the actual roasted duck breast was juicy and salted perfectly as the fat melted in mouth. The beets, which i'm not normally a fan of really paired well with the duck. The beats were roasted and really easy to cut into. Highly recommend this dish.\\n\\n4. The trio in house sorbets. Grape, Cranberry, and apple cider. - perfect way to cut the meal and fat. Really bright. Made our mouths water. \\n\\n 5.  The wine, 2020 Proprietary Blend, white, DOMAINE DE LA RANGE DES PÈRES. Coming in at a thick 14% drank like a red. hardy white with a very bright Gold color. I chose this and the Somm agreed, which is always a nice feeling. He chose to decant this wine and keep it on ice for us. Pouring us refreshed glasses at the right time during our meal as to make sure we had enough till the end of our meal.\\n\\n6. Not pictured was a after dinner wine - dessert wine - lighter and brighter than the dinner's wine\\n\\n7. Cost: 800 + tip. \\n\\nrating: 8/10 - would go back again. \",\n",
       "  'score': 13,\n",
       "  'comments': ['Looks excellent. I assume the alcohol was why this meal came out quite expensive?',\n",
       "   'Forgot to post the Sorbet. \\n\\n[Sorbet](https://imgur.com/a/KhvnK30)',\n",
       "   '1WS is highly under rated']},\n",
       " {'title': 'One White Street or Le Jardinier',\n",
       "  'selftext': 'Looking to do an a la carte amazing meal for a friend visiting that loves to try new Michelin spots. Between One White Street and Le Jardinier right now. Does anyone have a perspective on either?',\n",
       "  'score': 8,\n",
       "  'comments': ['It\\'s not just \"a cozy townhouse\" but it\\'s a cozy townhouse that John Lennon and Yoko Ono once resided in.',\n",
       "   \"Le Jardinier is a bit more fussy, whereas One White Street a la carte feels more like Gramercy Tavern. I think bite for bite I enjoyed One White St more, but also Le Jardinier's food was all perfectly executed and really lovely if you wanted something that felt more elevated vs cozy\",\n",
       "   'They’re both really solid food wise. Vibe is better at One White, cozy townhouse. Jardinier is in midtown area where there might not be much to do afterwards.',\n",
       "   'Has anyone here been to Musket Room or Noortwyck?',\n",
       "   '[deleted]',\n",
       "   \"One White Street was very good when I went in the summer. Menu is super seasonal so can't help you with dishes. It's in a Tribeca townhouse so pretty quaint. 2nd floor dining room is nicely appointed. Haven't been to Le Jardinier but the photos show that to be a much larger space so depends on the environment you want as well.\"]},\n",
       " {'title': 'Visiting NYC for a day help to choose one : Contra OR One White Street',\n",
       "  'selftext': 'Would love to know if anyone here has been to any or both , which one would you choose of the two restaurants. \\n\\n1. Contra \\n2. One White Street ',\n",
       "  'score': 5,\n",
       "  'comments': ['Haven’t been to one white street but did love my meal at contra!',\n",
       "   \"Big thumbs down to One White Street. We had the loudest table next to us and could barely talk to each other let alone the staff explain the courses to us. When we pointed it out, they didnt do anything about it.\\n\\nHad such an unpleasant experience that we couldn't even enjoy the food as intended. This was a expensive meal for me since I paid for a few people, as it was my treat and I often think about the massive sense of regret I felt that night.\",\n",
       "   '2',\n",
       "   'I’ve had a lovely meal at One White Street.',\n",
       "   'Haven’t been, but White street is on my list!',\n",
       "   \"I've been to both! One White Street is a little more classic, Contra will have some more risk taking and interesting dishes. At a similar price point, I much prefer Oxalis in brooklyn. But I know you weren't asking that :) \\n\\n&#x200B;\\n\\nI tend to say Contra if you haven't been.\"]}]"
      ]
     },
     "execution_count": 11,
     "metadata": {},
     "output_type": "execute_result"
    }
   ],
   "source": [
    "test_reddit['reddit_reviews']"
   ]
  },
  {
   "cell_type": "code",
   "execution_count": 12,
   "metadata": {},
   "outputs": [
    {
     "data": {
      "text/plain": [
       "[{'source': 'Reddit',\n",
       "  'author': 'Anonymous',\n",
       "  'rating': None,\n",
       "  'text': \"NYC - (*) One White Street : one white street (*) \\n\\nThe walk in is very nice experience.\\nBeautiful three stories of dining rooms. \\nThe service was amazing and attentive. The Somm was knowledgeable and friendly to speak with, answering all questions from simple novice questions to more complex curious questions. \\n\\n1. Foie Gras - citrus explosion. The liver was rich and paired perfectly with the bottle of wine we chose after speaking with the Somm. The fat and citrus really paired well with each other, cutting down on the foie's lingering effect on the mouth\\n\\n2. American Wagyu with a Fried puff potato. I had a taste of this from my Fiancé. To me this really was a case of order regret. I wanted to switch out my plate with hers. The steak was cooked perfectly as to not disturb the middle of the marbling during cooking. just right enough heat to get the inside juices flowing. Delicate inside fat flavor yet strong flavor on the charred outside. The fried potato ball had an internal surprise with a bit of cinnamon spice and other spices inside. \\n\\n3. The Duck - what a dish! two dishes! One was a bowl of grains and duck sausage. Mild sausage flavor, yet tinder and easy to cut. really felt like two meals in one. the actual roasted duck breast was juicy and salted perfectly as the fat melted in mouth. The beets, which i'm not normally a fan of really paired well with the duck. The beats were roasted and really easy to cut into. Highly recommend this dish.\\n\\n4. The trio in house sorbets. Grape, Cranberry, and apple cider. - perfect way to cut the meal and fat. Really bright. Made our mouths water. \\n\\n 5.  The wine, 2020 Proprietary Blend, white, DOMAINE DE LA RANGE DES PÈRES. Coming in at a thick 14% drank like a red. hardy white with a very bright Gold color. I chose this and the Somm agreed, which is always a nice feeling. He chose to decant this wine and keep it on ice for us. Pouring us refreshed glasses at the right time during our meal as to make sure we had enough till the end of our meal.\\n\\n6. Not pictured was a after dinner wine - dessert wine - lighter and brighter than the dinner's wine\\n\\n7. Cost: 800 + tip. \\n\\nrating: 8/10 - would go back again. \",\n",
       "  'timestamp': None},\n",
       " {'source': 'Reddit',\n",
       "  'author': 'Anonymous',\n",
       "  'rating': None,\n",
       "  'text': 'One White Street or Le Jardinier: Looking to do an a la carte amazing meal for a friend visiting that loves to try new Michelin spots. Between One White Street and Le Jardinier right now. Does anyone have a perspective on either?',\n",
       "  'timestamp': None},\n",
       " {'source': 'Reddit',\n",
       "  'author': 'Anonymous',\n",
       "  'rating': None,\n",
       "  'text': 'Visiting NYC for a day help to choose one : Contra OR One White Street: Would love to know if anyone here has been to any or both , which one would you choose of the two restaurants. \\n\\n1. Contra \\n2. One White Street ',\n",
       "  'timestamp': None}]"
      ]
     },
     "execution_count": 12,
     "metadata": {},
     "output_type": "execute_result"
    }
   ],
   "source": [
    "# Parse Reddit reviews\n",
    "def parse_reddit_reviews(reddit_reviews):\n",
    "    try:\n",
    "        reviews = reddit_reviews #json.loads(reddit_reviews.replace('\"\"', '\"'))\n",
    "        return [\n",
    "            {\n",
    "                \"source\": \"Reddit\",\n",
    "                \"author\": \"Anonymous\",\n",
    "                \"rating\": None,  # Reddit reviews often lack ratings\n",
    "                \"text\": f\"{review.get('title', '')}: {review.get('selftext', '')}\",\n",
    "                \"timestamp\": None,  # Reddit reviews may not have timestamps\n",
    "            }\n",
    "            for review in reviews\n",
    "        ]\n",
    "    except (ValueError, TypeError):\n",
    "        return []\n",
    "\n",
    "parse_reddit_reviews(test_reddit['reddit_reviews'])"
   ]
  },
  {
   "cell_type": "markdown",
   "metadata": {},
   "source": [
    "## Combine Reviews"
   ]
  },
  {
   "cell_type": "code",
   "execution_count": 13,
   "metadata": {},
   "outputs": [],
   "source": [
    "# Combine both review types\n",
    "def combine_reviews(row):\n",
    "    google = parse_google_reviews(row['google_reviews'])\n",
    "    reddit = parse_reddit_reviews(row['reddit_reviews'])\n",
    "    return google + reddit\n",
    "\n",
    "# Apply combination to each restaurant\n",
    "restaurants['combined_reviews'] = restaurants.apply(combine_reviews, axis=1)"
   ]
  },
  {
   "cell_type": "code",
   "execution_count": 14,
   "metadata": {},
   "outputs": [
    {
     "data": {
      "text/html": [
       "<div>\n",
       "<style scoped>\n",
       "    .dataframe tbody tr th:only-of-type {\n",
       "        vertical-align: middle;\n",
       "    }\n",
       "\n",
       "    .dataframe tbody tr th {\n",
       "        vertical-align: top;\n",
       "    }\n",
       "\n",
       "    .dataframe thead th {\n",
       "        text-align: right;\n",
       "    }\n",
       "</style>\n",
       "<table border=\"1\" class=\"dataframe\">\n",
       "  <thead>\n",
       "    <tr style=\"text-align: right;\">\n",
       "      <th></th>\n",
       "      <th>name</th>\n",
       "      <th>combined_reviews</th>\n",
       "    </tr>\n",
       "  </thead>\n",
       "  <tbody>\n",
       "    <tr>\n",
       "      <th>0</th>\n",
       "      <td>One White Street</td>\n",
       "      <td>[{'source': 'Google', 'author': 'Muris and Dia...</td>\n",
       "    </tr>\n",
       "    <tr>\n",
       "      <th>1</th>\n",
       "      <td>Dirt Candy</td>\n",
       "      <td>[{'source': 'Google', 'author': 'Cassidy Smith...</td>\n",
       "    </tr>\n",
       "    <tr>\n",
       "      <th>2</th>\n",
       "      <td>Family Meal at Blue Hill</td>\n",
       "      <td>[{'source': 'Google', 'author': 'Sho Yama', 'r...</td>\n",
       "    </tr>\n",
       "    <tr>\n",
       "      <th>3</th>\n",
       "      <td>Blue Hill at Stone Barns</td>\n",
       "      <td>[{'source': 'Google', 'author': 'Selena Tran',...</td>\n",
       "    </tr>\n",
       "    <tr>\n",
       "      <th>4</th>\n",
       "      <td>Oyster Oyster</td>\n",
       "      <td>[{'source': 'Google', 'author': 'Thar Soe', 'r...</td>\n",
       "    </tr>\n",
       "  </tbody>\n",
       "</table>\n",
       "</div>"
      ],
      "text/plain": [
       "                       name                                   combined_reviews\n",
       "0          One White Street  [{'source': 'Google', 'author': 'Muris and Dia...\n",
       "1                Dirt Candy  [{'source': 'Google', 'author': 'Cassidy Smith...\n",
       "2  Family Meal at Blue Hill  [{'source': 'Google', 'author': 'Sho Yama', 'r...\n",
       "3  Blue Hill at Stone Barns  [{'source': 'Google', 'author': 'Selena Tran',...\n",
       "4             Oyster Oyster  [{'source': 'Google', 'author': 'Thar Soe', 'r..."
      ]
     },
     "execution_count": 14,
     "metadata": {},
     "output_type": "execute_result"
    }
   ],
   "source": [
    "restaurants[['name', 'combined_reviews']].head()"
   ]
  },
  {
   "cell_type": "code",
   "execution_count": 15,
   "metadata": {},
   "outputs": [
    {
     "data": {
      "text/html": [
       "<div>\n",
       "<style scoped>\n",
       "    .dataframe tbody tr th:only-of-type {\n",
       "        vertical-align: middle;\n",
       "    }\n",
       "\n",
       "    .dataframe tbody tr th {\n",
       "        vertical-align: top;\n",
       "    }\n",
       "\n",
       "    .dataframe thead th {\n",
       "        text-align: right;\n",
       "    }\n",
       "</style>\n",
       "<table border=\"1\" class=\"dataframe\">\n",
       "  <thead>\n",
       "    <tr style=\"text-align: right;\">\n",
       "      <th></th>\n",
       "      <th>restaurant_id</th>\n",
       "      <th>restaurant_name</th>\n",
       "      <th>source</th>\n",
       "      <th>author</th>\n",
       "      <th>rating</th>\n",
       "      <th>text</th>\n",
       "      <th>timestamp</th>\n",
       "    </tr>\n",
       "  </thead>\n",
       "  <tbody>\n",
       "    <tr>\n",
       "      <th>0</th>\n",
       "      <td>110681</td>\n",
       "      <td>One White Street</td>\n",
       "      <td>Google</td>\n",
       "      <td>Muris and Diana Husremovic</td>\n",
       "      <td>5.0</td>\n",
       "      <td>One White Street  delivered great food and exc...</td>\n",
       "      <td>2024-11-07 21:53:43.158827+00:00</td>\n",
       "    </tr>\n",
       "    <tr>\n",
       "      <th>1</th>\n",
       "      <td>110681</td>\n",
       "      <td>One White Street</td>\n",
       "      <td>Google</td>\n",
       "      <td>Nicolas Tahon</td>\n",
       "      <td>4.0</td>\n",
       "      <td>Excellent food,full of flavor, creative and co...</td>\n",
       "      <td>2024-10-05 19:12:24.134670+00:00</td>\n",
       "    </tr>\n",
       "    <tr>\n",
       "      <th>2</th>\n",
       "      <td>110681</td>\n",
       "      <td>One White Street</td>\n",
       "      <td>Google</td>\n",
       "      <td>D H</td>\n",
       "      <td>2.0</td>\n",
       "      <td>This restaurant falls short of the standards e...</td>\n",
       "      <td>2024-11-19 05:15:20.893841+00:00</td>\n",
       "    </tr>\n",
       "    <tr>\n",
       "      <th>3</th>\n",
       "      <td>110681</td>\n",
       "      <td>One White Street</td>\n",
       "      <td>Google</td>\n",
       "      <td>Ya'el Carmel</td>\n",
       "      <td>5.0</td>\n",
       "      <td>Wow!!!!! One of my favorite dining experiences...</td>\n",
       "      <td>2024-08-22 20:00:06.258768+00:00</td>\n",
       "    </tr>\n",
       "    <tr>\n",
       "      <th>4</th>\n",
       "      <td>110681</td>\n",
       "      <td>One White Street</td>\n",
       "      <td>Google</td>\n",
       "      <td>Arsene Zhu</td>\n",
       "      <td>4.0</td>\n",
       "      <td>Amazing! Will definitely come back. Went for d...</td>\n",
       "      <td>2024-07-17 17:18:46.227649+00:00</td>\n",
       "    </tr>\n",
       "  </tbody>\n",
       "</table>\n",
       "</div>"
      ],
      "text/plain": [
       "   restaurant_id   restaurant_name  source                      author  \\\n",
       "0         110681  One White Street  Google  Muris and Diana Husremovic   \n",
       "1         110681  One White Street  Google               Nicolas Tahon   \n",
       "2         110681  One White Street  Google                         D H   \n",
       "3         110681  One White Street  Google                Ya'el Carmel   \n",
       "4         110681  One White Street  Google                  Arsene Zhu   \n",
       "\n",
       "   rating                                               text  \\\n",
       "0     5.0  One White Street  delivered great food and exc...   \n",
       "1     4.0  Excellent food,full of flavor, creative and co...   \n",
       "2     2.0  This restaurant falls short of the standards e...   \n",
       "3     5.0  Wow!!!!! One of my favorite dining experiences...   \n",
       "4     4.0  Amazing! Will definitely come back. Went for d...   \n",
       "\n",
       "                         timestamp  \n",
       "0 2024-11-07 21:53:43.158827+00:00  \n",
       "1 2024-10-05 19:12:24.134670+00:00  \n",
       "2 2024-11-19 05:15:20.893841+00:00  \n",
       "3 2024-08-22 20:00:06.258768+00:00  \n",
       "4 2024-07-17 17:18:46.227649+00:00  "
      ]
     },
     "execution_count": 15,
     "metadata": {},
     "output_type": "execute_result"
    }
   ],
   "source": [
    "# Expand combined reviews into a dataframe\n",
    "all_reviews = []\n",
    "for idx, combined in restaurants['combined_reviews'].items():\n",
    "    for review in combined:\n",
    "        all_reviews.append({\n",
    "            \"restaurant_id\": restaurants.loc[idx, 'id'],\n",
    "            \"restaurant_name\": restaurants.loc[idx, 'name'],\n",
    "            **review\n",
    "        })\n",
    "\n",
    "reviews_df = pd.DataFrame(all_reviews)\n",
    "reviews_df.head()\n",
    "# Example columns in reviews_df:\n",
    "# ['restaurant_id', 'restaurant_name', 'source', 'author', 'rating', 'text', 'timestamp']"
   ]
  },
  {
   "cell_type": "markdown",
   "metadata": {},
   "source": [
    "# **Step 1: Natural Language Understanding**"
   ]
  },
  {
   "cell_type": "markdown",
   "metadata": {},
   "source": [
    "## Sentiment Analysis"
   ]
  },
  {
   "cell_type": "code",
   "execution_count": null,
   "metadata": {},
   "outputs": [],
   "source": [
    "from tqdm import tqdm\n",
    "tqdm.pandas()"
   ]
  },
  {
   "cell_type": "code",
   "execution_count": null,
   "metadata": {},
   "outputs": [
    {
     "name": "stderr",
     "output_type": "stream",
     "text": [
      "c:\\Users\\Joyce\\Documents\\GitHub\\webscraping-ml-project\\.venv\\Lib\\site-packages\\tqdm\\auto.py:21: TqdmWarning: IProgress not found. Please update jupyter and ipywidgets. See https://ipywidgets.readthedocs.io/en/stable/user_install.html\n",
      "  from .autonotebook import tqdm as notebook_tqdm\n"
     ]
    },
    {
     "name": "stdout",
     "output_type": "stream",
     "text": [
      "WARNING:tensorflow:From c:\\Users\\Joyce\\Documents\\GitHub\\webscraping-ml-project\\.venv\\Lib\\site-packages\\tf_keras\\src\\losses.py:2976: The name tf.losses.sparse_softmax_cross_entropy is deprecated. Please use tf.compat.v1.losses.sparse_softmax_cross_entropy instead.\n",
      "\n"
     ]
    },
    {
     "name": "stderr",
     "output_type": "stream",
     "text": [
      "Device set to use cpu\n",
      "  1%|▏         | 54/3903 [00:06<03:39, 17.51it/s]Token indices sequence length is longer than the specified maximum sequence length for this model (1694 > 512). Running this sequence through the model will result in indexing errors\n",
      "100%|██████████| 3903/3903 [05:51<00:00, 11.09it/s]\n"
     ]
    }
   ],
   "source": [
    "from transformers import pipeline\n",
    "\n",
    "# Sentiment analysis model\n",
    "sentiment_analyzer = pipeline('sentiment-analysis', model=\"distilbert/distilbert-base-uncased-finetuned-sst-2-english\")\n",
    "\n",
    "# Add sentiment to reviews\n",
    "def analyze_sentiment(text):\n",
    "    try:\n",
    "        result = sentiment_analyzer(text)[0]\n",
    "        return result['label'], result['score']\n",
    "    except:\n",
    "        return None, None\n",
    "\n",
    "reviews_df[['sentiment', 'confidence']] = reviews_df['text'].progress_apply(lambda x: pd.Series(analyze_sentiment(x)))"
   ]
  },
  {
   "cell_type": "code",
   "execution_count": null,
   "metadata": {},
   "outputs": [
    {
     "data": {
      "text/html": [
       "<div>\n",
       "<style scoped>\n",
       "    .dataframe tbody tr th:only-of-type {\n",
       "        vertical-align: middle;\n",
       "    }\n",
       "\n",
       "    .dataframe tbody tr th {\n",
       "        vertical-align: top;\n",
       "    }\n",
       "\n",
       "    .dataframe thead th {\n",
       "        text-align: right;\n",
       "    }\n",
       "</style>\n",
       "<table border=\"1\" class=\"dataframe\">\n",
       "  <thead>\n",
       "    <tr style=\"text-align: right;\">\n",
       "      <th></th>\n",
       "      <th>restaurant_id</th>\n",
       "      <th>restaurant_name</th>\n",
       "      <th>source</th>\n",
       "      <th>author</th>\n",
       "      <th>rating</th>\n",
       "      <th>text</th>\n",
       "      <th>timestamp</th>\n",
       "      <th>sentiment</th>\n",
       "      <th>confidence</th>\n",
       "    </tr>\n",
       "  </thead>\n",
       "  <tbody>\n",
       "    <tr>\n",
       "      <th>3898</th>\n",
       "      <td>75249</td>\n",
       "      <td>TIAN</td>\n",
       "      <td>Reddit</td>\n",
       "      <td>Anonymous</td>\n",
       "      <td>NaN</td>\n",
       "      <td>[homemade] smash burger + tian di yi hao:</td>\n",
       "      <td>NaT</td>\n",
       "      <td>NEGATIVE</td>\n",
       "      <td>0.790859</td>\n",
       "    </tr>\n",
       "    <tr>\n",
       "      <th>3899</th>\n",
       "      <td>75249</td>\n",
       "      <td>TIAN</td>\n",
       "      <td>Reddit</td>\n",
       "      <td>Anonymous</td>\n",
       "      <td>NaN</td>\n",
       "      <td>[homemade] Couscous, vegetable tian, goat chee...</td>\n",
       "      <td>NaT</td>\n",
       "      <td>POSITIVE</td>\n",
       "      <td>0.962417</td>\n",
       "    </tr>\n",
       "    <tr>\n",
       "      <th>3900</th>\n",
       "      <td>75249</td>\n",
       "      <td>TIAN</td>\n",
       "      <td>Reddit</td>\n",
       "      <td>Anonymous</td>\n",
       "      <td>NaN</td>\n",
       "      <td>best fine veggie restaurant in Vienna: Tian or...</td>\n",
       "      <td>NaT</td>\n",
       "      <td>POSITIVE</td>\n",
       "      <td>0.999134</td>\n",
       "    </tr>\n",
       "    <tr>\n",
       "      <th>3901</th>\n",
       "      <td>75249</td>\n",
       "      <td>TIAN</td>\n",
       "      <td>Reddit</td>\n",
       "      <td>Anonymous</td>\n",
       "      <td>NaN</td>\n",
       "      <td>Tian in Vienna - May 2024: It's an all vegetar...</td>\n",
       "      <td>NaT</td>\n",
       "      <td>NEGATIVE</td>\n",
       "      <td>0.992212</td>\n",
       "    </tr>\n",
       "    <tr>\n",
       "      <th>3902</th>\n",
       "      <td>75249</td>\n",
       "      <td>TIAN</td>\n",
       "      <td>Reddit</td>\n",
       "      <td>Anonymous</td>\n",
       "      <td>NaN</td>\n",
       "      <td>Fantastic vegetarian lunch at TIAN in Vienna, ...</td>\n",
       "      <td>NaT</td>\n",
       "      <td>POSITIVE</td>\n",
       "      <td>0.999425</td>\n",
       "    </tr>\n",
       "  </tbody>\n",
       "</table>\n",
       "</div>"
      ],
      "text/plain": [
       "      restaurant_id restaurant_name  source     author  rating  \\\n",
       "3898          75249            TIAN  Reddit  Anonymous     NaN   \n",
       "3899          75249            TIAN  Reddit  Anonymous     NaN   \n",
       "3900          75249            TIAN  Reddit  Anonymous     NaN   \n",
       "3901          75249            TIAN  Reddit  Anonymous     NaN   \n",
       "3902          75249            TIAN  Reddit  Anonymous     NaN   \n",
       "\n",
       "                                                   text timestamp sentiment  \\\n",
       "3898         [homemade] smash burger + tian di yi hao:        NaT  NEGATIVE   \n",
       "3899  [homemade] Couscous, vegetable tian, goat chee...       NaT  POSITIVE   \n",
       "3900  best fine veggie restaurant in Vienna: Tian or...       NaT  POSITIVE   \n",
       "3901  Tian in Vienna - May 2024: It's an all vegetar...       NaT  NEGATIVE   \n",
       "3902  Fantastic vegetarian lunch at TIAN in Vienna, ...       NaT  POSITIVE   \n",
       "\n",
       "      confidence  \n",
       "3898    0.790859  \n",
       "3899    0.962417  \n",
       "3900    0.999134  \n",
       "3901    0.992212  \n",
       "3902    0.999425  "
      ]
     },
     "metadata": {},
     "output_type": "display_data"
    }
   ],
   "source": [
    "reviews_df.tail()"
   ]
  },
  {
   "cell_type": "markdown",
   "metadata": {},
   "source": [
    "## User Intent"
   ]
  },
  {
   "cell_type": "code",
   "execution_count": null,
   "metadata": {},
   "outputs": [
    {
     "name": "stderr",
     "output_type": "stream",
     "text": [
      "Device set to use cpu\n"
     ]
    }
   ],
   "source": [
    "intent_classifier = pipeline(\"zero-shot-classification\", model=\"facebook/bart-large-mnli\")"
   ]
  },
  {
   "cell_type": "code",
   "execution_count": 98,
   "metadata": {},
   "outputs": [],
   "source": [
    "def get_intent(query):\n",
    "    candidate_labels = ['recommend restaurant', 'get details', 'get reviews', 'get hours', 'help', 'goodbye', 'chitchat', 'other']\n",
    "    intent = intent_classifier(query, candidate_labels=candidate_labels)\n",
    "    label = intent_classifier(query, candidate_labels=candidate_labels)['labels'][0]\n",
    "    score = intent['scores'][0]\n",
    "    return label"
   ]
  },
  {
   "cell_type": "markdown",
   "metadata": {},
   "source": [
    "|Intent Name|Description|Example User Query|\n",
    "|-----------|-----------|------------------|\n",
    "|`recommend restaurant`|Generic request for restaurant recommendations|\"Suggest some restaurants.\"|\n",
    "|`get details`|Request for details about a specific restaurant|\"Tell me about Luigi's Trattoria.\"|\n",
    "|`get reviews`|Request to read reviews|\"What are people saying about Bella Roma?\"|\n",
    "|`get hours`|Request for restaurant opening/closing hours|\"When does Luigi's open?\"|\n",
    "|`help`|User asks for guidance|\"How do I use this bot?\"|\n",
    "|`goodbye`|User ends the conversation|\"Goodbye!\"|\n",
    "|`chitchat`|User engages in casual conversation|\"What's your favorite food?\"|"
   ]
  },
  {
   "cell_type": "code",
   "execution_count": null,
   "metadata": {},
   "outputs": [
    {
     "data": {
      "text/plain": [
       "'recommend restaurant'"
      ]
     },
     "metadata": {},
     "output_type": "display_data"
    }
   ],
   "source": [
    "# Example intents\n",
    "get_intent(\"Find a romantic restaurant in NYC\")"
   ]
  },
  {
   "cell_type": "code",
   "execution_count": null,
   "metadata": {},
   "outputs": [
    {
     "data": {
      "text/plain": [
       "'recommend restaurant'"
      ]
     },
     "metadata": {},
     "output_type": "display_data"
    }
   ],
   "source": [
    "get_intent(\"Suggest chill restaurants to eat at with friends please\")"
   ]
  },
  {
   "cell_type": "code",
   "execution_count": null,
   "metadata": {},
   "outputs": [
    {
     "data": {
      "text/plain": [
       "'get details'"
      ]
     },
     "metadata": {},
     "output_type": "display_data"
    }
   ],
   "source": [
    "get_intent(\"What should I know about this restaurant?\")"
   ]
  },
  {
   "cell_type": "code",
   "execution_count": null,
   "metadata": {},
   "outputs": [
    {
     "data": {
      "text/plain": [
       "'goodbye'"
      ]
     },
     "metadata": {},
     "output_type": "display_data"
    }
   ],
   "source": [
    "get_intent(\"Thanks, see you next time!\")"
   ]
  },
  {
   "cell_type": "code",
   "execution_count": null,
   "metadata": {},
   "outputs": [
    {
     "data": {
      "text/plain": [
       "'recommend restaurant'"
      ]
     },
     "metadata": {},
     "output_type": "display_data"
    }
   ],
   "source": [
    "get_intent(\"Recommend a vegan restaurant in Paris\")"
   ]
  },
  {
   "cell_type": "markdown",
   "metadata": {},
   "source": [
    "## Embedding"
   ]
  },
  {
   "cell_type": "code",
   "execution_count": null,
   "metadata": {},
   "outputs": [],
   "source": [
    "from sentence_transformers import SentenceTransformer, util\n",
    "\n",
    "# Load model\n",
    "embedder = SentenceTransformer('all-mpnet-base-v2')"
   ]
  },
  {
   "cell_type": "code",
   "execution_count": null,
   "metadata": {},
   "outputs": [
    {
     "name": "stderr",
     "output_type": "stream",
     "text": [
      "100%|██████████| 3903/3903 [12:39<00:00,  5.14it/s]\n"
     ]
    }
   ],
   "source": [
    "# Compute embeddings for reviews\n",
    "reviews_df['embedding'] = reviews_df['text'].progress_apply(lambda x: embedder.encode(x, convert_to_tensor=True))"
   ]
  },
  {
   "cell_type": "code",
   "execution_count": null,
   "metadata": {},
   "outputs": [],
   "source": [
    "reviews_df.to_csv('../data/processed/reviews.csv', index=False)"
   ]
  },
  {
   "cell_type": "markdown",
   "metadata": {},
   "source": [
    "# **Step 2: Matching Restaurants**"
   ]
  },
  {
   "cell_type": "markdown",
   "metadata": {},
   "source": [
    "### Feature Extraction"
   ]
  },
  {
   "cell_type": "code",
   "execution_count": null,
   "metadata": {},
   "outputs": [],
   "source": [
    "reviews_df = pd.read_csv('../data/processed/reviews.csv')"
   ]
  },
  {
   "cell_type": "code",
   "execution_count": null,
   "metadata": {},
   "outputs": [
    {
     "data": {
      "text/plain": [
       "'tensor([-2.0130e-02,  1.4983e-01,  5.3217e-03, -7.1052e-03, -4.7994e-02,\\n         6.1408e-03, -4.0052e-02,  1.7813e-02,  4.4324e-02, -1.4115e-02,\\n        -2.1479e-02, -3.3350e-02,  3.6408e-02,  5.4848e-02,  1.5797e-02,\\n         1.4929e-02,  4.4975e-03,  8.7959e-03,  2.3131e-02, -3.4445e-03,\\n        -5.4671e-02, -3.3766e-02, -1.0089e-02,  3.7733e-02, -1.1241e-02,\\n         3.9338e-03,  5.3910e-03, -3.5472e-02, -1.6728e-03, -4.0010e-02,\\n         1.4226e-02,  4.5712e-02, -7.4274e-02, -3.2224e-02,  2.5111e-06,\\n        -5.0131e-03,  4.4815e-03,  9.9296e-03, -3.6785e-02, -6.4980e-02,\\n        -6.3956e-02,  4.4658e-02, -3.7400e-02,  8.4102e-03,  2.8086e-02,\\n         1.7459e-02,  1.9328e-02,  6.4439e-02, -5.7467e-02, -1.1466e-02,\\n         2.7878e-02, -7.1925e-02, -6.4173e-02,  3.7066e-02,  5.5273e-03,\\n         6.9799e-02,  4.2162e-02, -8.6183e-02,  7.0178e-03, -6.4773e-02,\\n         2.0695e-02, -2.8430e-02,  1.2479e-02, -5.5253e-02, -1.1340e-02,\\n         6.3710e-02, -6.2528e-02,  9.2007e-03,  1.1497e-02,  2.0976e-02,\\n        -5.3119e-02, -6.9866e-03, -2.6060e-02,  3.3630e-02, -8.7813e-03,\\n        -9.6255e-02,  3.2608e-02, -1.7095e-03, -3.2336e-02, -4.7486e-03,\\n        -1.0996e-01,  3.1344e-02,  4.8230e-02,  3.1016e-02,  5.0398e-02,\\n         6.2898e-02,  2.2128e-02,  2.6395e-02,  3.7346e-02,  3.3566e-02,\\n        -1.4564e-02,  4.7692e-03, -3.0782e-02,  6.0312e-02, -3.6669e-02,\\n        -2.9448e-02,  3.2691e-02, -5.9279e-03,  4.2778e-02, -3.4941e-02,\\n         2.9851e-02,  1.6283e-02, -2.1651e-02, -2.9610e-02,  1.4524e-02,\\n         2.7721e-02,  3.9625e-03, -4.4405e-02, -6.9627e-02, -1.8815e-02,\\n         2.7100e-02, -2.7921e-02, -9.0980e-03,  1.1197e-01, -1.1007e-02,\\n        -3.8236e-02,  1.0514e-01, -2.7359e-02,  8.6231e-04,  3.1812e-02,\\n         2.1083e-02,  2.6667e-02,  1.9743e-03,  1.3620e-02, -6.7720e-03,\\n        -2.1875e-02, -5.1884e-02, -3.8313e-02, -2.1276e-03,  3.0958e-02,\\n        -2.6134e-02,  1.3921e-02, -2.5409e-02,  1.3148e-02,  4.9406e-02,\\n        -2.9382e-02, -2.0879e-02,  1.8211e-02, -6.6741e-02, -1.3715e-02,\\n        -1.7440e-02, -2.2076e-02, -4.8625e-02, -2.7308e-02, -2.1635e-02,\\n         6.3836e-02,  2.1729e-02,  8.0276e-03,  5.5896e-02, -4.2425e-03,\\n         1.1228e-02, -4.0623e-02,  3.7729e-02, -7.1636e-03,  5.8580e-02,\\n        -3.1466e-02,  7.1947e-02,  3.2360e-02,  2.0264e-02, -6.5060e-03,\\n         1.1023e-02,  3.9897e-02, -5.2530e-02, -3.3737e-02, -4.5172e-02,\\n        -3.1680e-02,  4.5647e-02,  3.7681e-02, -1.6279e-03,  3.2293e-02,\\n         3.6360e-02,  4.4793e-02, -1.8979e-02, -6.3796e-02,  1.2977e-02,\\n        -4.4404e-02,  1.7663e-02,  3.0858e-02,  1.2583e-02,  3.1620e-02,\\n        -8.8321e-03,  1.9816e-02, -1.9308e-02, -1.4360e-02,  3.6255e-02,\\n        -7.4615e-04,  2.4680e-02,  1.0900e-02,  3.6020e-03,  6.7489e-03,\\n        -3.5849e-02, -2.2701e-03, -1.9930e-03, -5.6622e-02, -1.5246e-02,\\n        -1.9928e-02, -6.0181e-02, -1.5498e-02,  6.2909e-02,  1.5937e-02,\\n        -1.1232e-02, -1.2888e-02,  1.7975e-02,  6.9379e-02, -2.1932e-03,\\n         5.2850e-02,  9.0627e-03, -3.2481e-02, -4.3728e-02, -2.4895e-02,\\n         1.4072e-02, -1.9772e-02,  5.7528e-02,  3.9505e-02, -2.3889e-02,\\n        -3.1783e-02,  6.5243e-02,  2.7081e-02, -1.0676e-02,  1.2728e-02,\\n        -4.1053e-02,  2.3142e-02, -3.7821e-02,  1.1900e-02,  8.3540e-02,\\n         2.2197e-03,  2.2981e-02,  2.2524e-02, -6.2229e-03,  2.8015e-02,\\n        -1.6710e-02,  4.2146e-02, -3.9676e-02, -4.3090e-03, -1.6641e-02,\\n        -5.9312e-03, -8.9922e-03,  2.2517e-02,  1.7033e-02, -9.4627e-02,\\n        -2.7014e-03, -1.2582e-02,  3.6784e-03, -3.5854e-03, -2.0238e-02,\\n         4.3948e-03, -6.4275e-02, -8.8162e-03, -1.1778e-02,  5.2202e-02,\\n         2.0113e-02,  3.5605e-02,  6.8752e-02, -4.8059e-03,  6.0294e-02,\\n         1.8371e-02,  2.0162e-02,  5.2723e-02,  3.1826e-02,  7.9820e-02,\\n        -2.2615e-02, -1.2922e-02,  2.9281e-02, -4.0543e-02,  2.9518e-02,\\n        -2.1874e-02,  3.1156e-02,  2.0189e-02, -1.3550e-02, -5.2705e-03,\\n        -2.3084e-02, -1.9819e-02, -2.4783e-02,  3.3353e-02,  2.9179e-02,\\n         2.7299e-02, -6.1375e-02, -5.6526e-02, -3.3032e-02, -9.3000e-03,\\n        -4.9232e-02,  1.7515e-02,  1.5723e-04,  4.1950e-02,  1.5298e-03,\\n         2.1665e-02, -1.4809e-02, -5.5572e-03,  2.0765e-02, -1.2516e-01,\\n        -1.4698e-02, -1.9372e-02,  3.5990e-02, -3.8247e-02,  2.1572e-02,\\n         2.9327e-02,  2.7922e-02,  1.5580e-02, -3.0599e-03, -5.8863e-02,\\n         2.7305e-02, -5.5920e-02,  3.1982e-02, -1.4460e-02,  1.7289e-03,\\n         1.5635e-02,  5.7576e-03,  1.0281e-02, -2.6014e-02, -3.0991e-02,\\n         1.8697e-02, -1.1755e-02, -2.0829e-02, -6.7695e-02, -3.7430e-02,\\n         6.1012e-03, -8.4523e-02,  2.3132e-02, -4.0870e-02, -1.9162e-02,\\n         2.8245e-02,  1.7551e-02,  1.6928e-02,  2.9338e-03, -1.9447e-02,\\n         2.5811e-02,  4.8943e-02, -8.5410e-03,  1.2894e-02, -3.8754e-03,\\n         3.1765e-02, -1.2418e-02, -1.6763e-02,  2.9094e-02,  2.1157e-02,\\n        -3.0299e-02, -6.0085e-03,  4.6198e-02, -2.7152e-02, -1.7602e-02,\\n        -1.7442e-02, -2.2278e-02, -4.5397e-03, -1.0027e-02, -5.3998e-02,\\n        -6.2020e-04,  7.4131e-02,  3.9188e-02, -2.4729e-02,  6.7498e-02,\\n        -3.7464e-02,  4.5096e-02, -1.2662e-02, -1.7929e-02, -4.7057e-02,\\n         2.7481e-02, -5.5935e-02, -1.6809e-02,  2.6286e-02, -1.4688e-02,\\n         3.7424e-02, -1.2535e-02, -7.3200e-02, -4.7958e-03,  5.9199e-02,\\n         2.5743e-03,  5.8072e-03, -4.4093e-02,  2.7313e-05, -1.5184e-02,\\n        -2.6648e-02,  3.1999e-03, -3.6497e-02,  2.1912e-02,  4.1799e-02,\\n        -2.2130e-02, -6.1975e-03, -2.7367e-02,  5.9717e-02, -4.1750e-03,\\n         1.9522e-02,  1.2246e-02,  3.6518e-03,  4.0522e-02,  1.5562e-02,\\n        -3.8759e-02, -4.5094e-02, -5.2304e-02, -4.9907e-04, -3.5350e-04,\\n         2.0997e-03, -8.0741e-03,  3.9754e-03, -4.0291e-02, -1.6454e-02,\\n         5.6271e-02,  2.2924e-02,  5.3453e-02,  4.1425e-03, -3.4201e-03,\\n        -1.2620e-02,  4.7328e-02,  3.5747e-02, -2.2189e-02, -4.5441e-02,\\n         2.2914e-02,  1.4125e-02,  1.3870e-02, -4.3922e-04, -1.4089e-02,\\n        -1.2320e-01, -3.3291e-02,  3.4097e-02, -3.3327e-02,  7.3870e-02,\\n        -7.6450e-03, -2.2751e-02, -5.2557e-03, -1.1477e-02, -4.1812e-02,\\n        -4.5127e-03,  4.3600e-03, -5.3720e-02, -3.4958e-02, -2.4141e-02,\\n        -1.6592e-02,  2.8387e-02,  2.7372e-02,  1.2359e-02,  1.2508e-02,\\n         5.9244e-02, -7.7720e-03, -5.1599e-02, -5.9168e-02, -5.1805e-03,\\n        -2.4766e-02,  8.7117e-02, -1.0301e-02,  2.5854e-02,  1.5660e-02,\\n        -1.1918e-02, -3.8154e-02,  4.1485e-02, -3.9895e-02,  8.9473e-03,\\n        -2.7728e-02, -4.6630e-02,  5.5558e-02,  4.9884e-03,  8.6126e-03,\\n         1.3483e-02, -4.1180e-02,  1.1224e-02,  9.0289e-02, -6.0104e-02,\\n        -2.4267e-02, -5.5515e-03,  2.9795e-02,  2.8241e-02,  3.0042e-02,\\n         5.4700e-02,  6.8502e-03, -5.4160e-03, -1.6662e-02,  6.9859e-03,\\n        -5.0493e-02, -2.5682e-02,  5.3562e-02, -2.0688e-02, -1.0849e-02,\\n        -1.9666e-02,  6.8892e-03, -7.1093e-03, -3.6273e-02,  4.8165e-02,\\n         8.4488e-03, -5.6928e-02,  7.4537e-02,  3.0744e-02,  2.2662e-02,\\n         3.5025e-02,  5.5128e-02, -1.7074e-02, -2.8346e-03, -7.2078e-03,\\n         2.5832e-02, -6.5934e-03, -2.1727e-02,  6.5841e-03,  2.3630e-02,\\n        -1.4168e-02, -1.2588e-02, -3.0439e-02, -1.0971e-03,  7.2068e-03,\\n        -2.9024e-02,  1.4435e-02, -6.2058e-02, -4.5075e-03, -8.3186e-02,\\n         9.9672e-03, -3.6742e-02, -2.4087e-02,  5.4419e-02,  1.1761e-02,\\n        -2.1450e-02,  1.5103e-02,  7.3249e-03,  1.5779e-02,  1.8617e-02,\\n        -1.8024e-02, -1.4823e-03,  2.1416e-02, -6.2160e-02, -3.4587e-02,\\n        -2.1702e-02,  2.3358e-02,  1.2455e-02,  5.3045e-02,  7.8815e-04,\\n         2.0273e-02, -8.8160e-03,  5.0786e-02,  5.7645e-02, -5.7182e-02,\\n         6.2589e-02,  1.1783e-02,  5.1644e-03, -7.7581e-03,  4.7563e-02,\\n        -1.1331e-01, -3.7584e-02,  2.0577e-02, -6.5623e-03,  2.4618e-02,\\n         1.2217e-02,  4.3953e-02, -4.3590e-03, -3.2878e-02, -4.6197e-02,\\n         6.8387e-03,  1.7502e-03,  1.2769e-02,  5.0042e-02,  1.4951e-02,\\n         1.1201e-02, -6.5881e-04, -2.3936e-02,  2.7239e-02,  2.2286e-02,\\n         1.3939e-03, -5.9222e-03,  2.2977e-02, -3.3482e-02,  3.0601e-02,\\n        -7.2497e-33, -4.3660e-02, -7.5466e-03, -3.5851e-02,  1.0911e-02,\\n        -2.1156e-02, -2.8090e-02,  9.7370e-03,  7.7682e-02,  8.2256e-04,\\n        -3.1973e-02,  3.9889e-02, -4.6468e-03,  2.6923e-02,  1.9447e-02,\\n        -5.1320e-03, -5.0106e-02,  1.0357e-02,  2.3469e-02, -2.2938e-02,\\n        -4.4195e-02, -7.7281e-02,  1.5351e-02, -4.6439e-03,  3.7921e-02,\\n        -2.0253e-02, -8.5767e-02, -3.3444e-02, -6.3741e-03,  1.1449e-02,\\n         4.8982e-04, -2.0961e-04,  5.4385e-02, -6.8135e-03, -3.5424e-02,\\n        -6.8115e-03, -7.1237e-02, -2.1988e-02,  5.1623e-03, -1.5598e-02,\\n         4.1172e-03, -6.1615e-02, -5.9271e-02,  5.4123e-02,  4.5905e-02,\\n         3.1568e-03,  9.8592e-03, -3.0041e-03,  3.0364e-04,  3.4456e-03,\\n         5.3136e-02, -3.6172e-02,  3.3220e-02,  1.0489e-02,  3.5625e-03,\\n        -4.4510e-02, -2.4480e-02,  8.3064e-03, -4.9246e-03, -4.8775e-02,\\n        -5.7355e-02,  5.8268e-02, -4.6455e-02,  1.5416e-02, -3.3054e-02,\\n        -2.2442e-02, -1.7137e-02,  2.2439e-02, -1.0023e-01,  3.9468e-02,\\n        -7.4799e-03,  2.6037e-02,  4.0868e-02,  2.3012e-02,  1.2219e-02,\\n        -6.6711e-02, -5.9543e-02, -5.3244e-03, -1.6847e-02, -5.1747e-02,\\n        -6.9213e-02,  4.8305e-03, -8.0552e-03,  1.9256e-02,  2.0257e-04,\\n        -1.2239e-02, -4.3981e-02, -2.6463e-02,  1.4053e-02, -4.5793e-03,\\n         1.5271e-02,  1.1753e-02, -4.1268e-02,  8.3713e-03,  3.5684e-02,\\n        -2.8544e-02, -2.8282e-02,  1.0719e-02,  1.6875e-03, -8.8521e-03,\\n         6.1339e-02, -3.7778e-02,  5.3779e-02, -6.8622e-02, -2.4653e-03,\\n        -2.0285e-02,  7.7697e-03,  3.2001e-02,  6.9617e-02, -4.7629e-02,\\n         4.2593e-02,  1.6766e-02, -3.5156e-02,  5.3810e-02,  1.4338e-02,\\n        -1.1126e-02, -5.3867e-02,  2.0923e-02,  7.9946e-02,  1.1121e-02,\\n        -2.1647e-02,  4.6933e-02,  1.5087e-02,  8.5195e-02, -1.4575e-02,\\n         1.5233e-02,  3.6610e-02,  7.5200e-02, -4.1628e-02,  2.0132e-02,\\n         5.2489e-02,  4.4705e-03, -4.7606e-03,  3.0843e-07,  6.7519e-02,\\n        -3.4968e-02, -2.7742e-02,  4.7811e-02,  2.6481e-02, -2.9757e-03,\\n        -1.5630e-02,  2.5254e-02, -3.4939e-02,  3.2472e-02,  3.6264e-02,\\n        -5.6491e-02, -7.2157e-03,  2.4173e-02,  4.5814e-02,  5.9982e-02,\\n        -2.6315e-02, -5.3356e-02, -2.3124e-02, -4.0033e-02,  7.1390e-03,\\n         4.2582e-02, -7.9514e-03,  1.9663e-02,  2.7228e-02,  5.4490e-03,\\n         7.1336e-03, -6.0202e-02,  3.6929e-02, -2.1116e-03,  3.2756e-02,\\n        -8.8063e-04,  2.5802e-02, -7.9421e-02,  2.1893e-02, -2.8478e-02,\\n         1.7512e-02,  3.4028e-02,  1.0375e-02,  1.4781e-02,  1.4346e-02,\\n        -5.8806e-02,  2.3446e-02, -1.1609e-01,  4.4655e-02, -1.1619e-02,\\n        -1.0022e-02,  5.0922e-03,  6.8733e-03, -1.5773e-02,  2.0122e-02,\\n         2.0537e-02,  1.0519e-02,  3.7988e-03,  8.6736e-03,  2.5432e-02,\\n         3.4608e-02,  3.8519e-02,  1.1421e-03, -6.5522e-02,  1.0604e-02,\\n        -4.6433e-03,  1.5317e-02, -6.6476e-02, -6.3640e-02, -2.6941e-03,\\n        -3.6310e-02,  2.7268e-34,  2.0323e-02, -4.9135e-02,  2.0093e-03,\\n         5.2514e-02, -1.0692e-02, -2.5126e-02, -2.0557e-02, -3.7524e-02,\\n        -1.0513e-02,  4.0790e-02, -2.9216e-02])'"
      ]
     },
     "metadata": {},
     "output_type": "display_data"
    }
   ],
   "source": [
    "reviews_df.iloc[0]['embedding']"
   ]
  },
  {
   "cell_type": "code",
   "execution_count": null,
   "metadata": {},
   "outputs": [
    {
     "data": {
      "text/plain": [
       "tensor([-2.0130e-02,  1.4983e-01,  5.3217e-03, -7.1052e-03, -4.7994e-02,\n",
       "         6.1408e-03, -4.0052e-02,  1.7813e-02,  4.4324e-02, -1.4115e-02,\n",
       "        -2.1479e-02, -3.3350e-02,  3.6408e-02,  5.4848e-02,  1.5797e-02,\n",
       "         1.4929e-02,  4.4975e-03,  8.7959e-03,  2.3131e-02, -3.4445e-03,\n",
       "        -5.4671e-02, -3.3766e-02, -1.0089e-02,  3.7733e-02, -1.1241e-02,\n",
       "         3.9338e-03,  5.3910e-03, -3.5472e-02, -1.6728e-03, -4.0010e-02,\n",
       "         1.4226e-02,  4.5712e-02, -7.4274e-02, -3.2224e-02,  2.5111e-06,\n",
       "        -5.0131e-03,  4.4815e-03,  9.9296e-03, -3.6785e-02, -6.4980e-02,\n",
       "        -6.3956e-02,  4.4658e-02, -3.7400e-02,  8.4102e-03,  2.8086e-02,\n",
       "         1.7459e-02,  1.9328e-02,  6.4439e-02, -5.7467e-02, -1.1466e-02,\n",
       "         2.7878e-02, -7.1925e-02, -6.4173e-02,  3.7066e-02,  5.5273e-03,\n",
       "         6.9799e-02,  4.2162e-02, -8.6183e-02,  7.0178e-03, -6.4773e-02,\n",
       "         2.0695e-02, -2.8430e-02,  1.2479e-02, -5.5253e-02, -1.1340e-02,\n",
       "         6.3710e-02, -6.2528e-02,  9.2007e-03,  1.1497e-02,  2.0976e-02,\n",
       "        -5.3119e-02, -6.9866e-03, -2.6060e-02,  3.3630e-02, -8.7813e-03,\n",
       "        -9.6255e-02,  3.2608e-02, -1.7095e-03, -3.2336e-02, -4.7486e-03,\n",
       "        -1.0996e-01,  3.1344e-02,  4.8230e-02,  3.1016e-02,  5.0398e-02,\n",
       "         6.2898e-02,  2.2128e-02,  2.6395e-02,  3.7346e-02,  3.3566e-02,\n",
       "        -1.4564e-02,  4.7692e-03, -3.0782e-02,  6.0312e-02, -3.6669e-02,\n",
       "        -2.9448e-02,  3.2691e-02, -5.9279e-03,  4.2778e-02, -3.4941e-02,\n",
       "         2.9851e-02,  1.6283e-02, -2.1651e-02, -2.9610e-02,  1.4524e-02,\n",
       "         2.7721e-02,  3.9625e-03, -4.4405e-02, -6.9627e-02, -1.8815e-02,\n",
       "         2.7100e-02, -2.7921e-02, -9.0980e-03,  1.1197e-01, -1.1007e-02,\n",
       "        -3.8236e-02,  1.0514e-01, -2.7359e-02,  8.6231e-04,  3.1812e-02,\n",
       "         2.1083e-02,  2.6667e-02,  1.9743e-03,  1.3620e-02, -6.7720e-03,\n",
       "        -2.1875e-02, -5.1884e-02, -3.8313e-02, -2.1276e-03,  3.0958e-02,\n",
       "        -2.6134e-02,  1.3921e-02, -2.5409e-02,  1.3148e-02,  4.9406e-02,\n",
       "        -2.9382e-02, -2.0879e-02,  1.8211e-02, -6.6741e-02, -1.3715e-02,\n",
       "        -1.7440e-02, -2.2076e-02, -4.8625e-02, -2.7308e-02, -2.1635e-02,\n",
       "         6.3836e-02,  2.1729e-02,  8.0276e-03,  5.5896e-02, -4.2425e-03,\n",
       "         1.1228e-02, -4.0623e-02,  3.7729e-02, -7.1636e-03,  5.8580e-02,\n",
       "        -3.1466e-02,  7.1947e-02,  3.2360e-02,  2.0264e-02, -6.5060e-03,\n",
       "         1.1023e-02,  3.9897e-02, -5.2530e-02, -3.3737e-02, -4.5172e-02,\n",
       "        -3.1680e-02,  4.5647e-02,  3.7681e-02, -1.6279e-03,  3.2293e-02,\n",
       "         3.6360e-02,  4.4793e-02, -1.8979e-02, -6.3796e-02,  1.2977e-02,\n",
       "        -4.4404e-02,  1.7663e-02,  3.0858e-02,  1.2583e-02,  3.1620e-02,\n",
       "        -8.8321e-03,  1.9816e-02, -1.9308e-02, -1.4360e-02,  3.6255e-02,\n",
       "        -7.4615e-04,  2.4680e-02,  1.0900e-02,  3.6020e-03,  6.7489e-03,\n",
       "        -3.5849e-02, -2.2701e-03, -1.9930e-03, -5.6622e-02, -1.5246e-02,\n",
       "        -1.9928e-02, -6.0181e-02, -1.5498e-02,  6.2909e-02,  1.5937e-02,\n",
       "        -1.1232e-02, -1.2888e-02,  1.7975e-02,  6.9379e-02, -2.1932e-03,\n",
       "         5.2850e-02,  9.0627e-03, -3.2481e-02, -4.3728e-02, -2.4895e-02,\n",
       "         1.4072e-02, -1.9772e-02,  5.7528e-02,  3.9505e-02, -2.3889e-02,\n",
       "        -3.1783e-02,  6.5243e-02,  2.7081e-02, -1.0676e-02,  1.2728e-02,\n",
       "        -4.1053e-02,  2.3142e-02, -3.7821e-02,  1.1900e-02,  8.3540e-02,\n",
       "         2.2197e-03,  2.2981e-02,  2.2524e-02, -6.2229e-03,  2.8015e-02,\n",
       "        -1.6710e-02,  4.2146e-02, -3.9676e-02, -4.3090e-03, -1.6641e-02,\n",
       "        -5.9312e-03, -8.9922e-03,  2.2517e-02,  1.7033e-02, -9.4627e-02,\n",
       "        -2.7014e-03, -1.2582e-02,  3.6784e-03, -3.5854e-03, -2.0238e-02,\n",
       "         4.3948e-03, -6.4275e-02, -8.8162e-03, -1.1778e-02,  5.2202e-02,\n",
       "         2.0113e-02,  3.5605e-02,  6.8752e-02, -4.8059e-03,  6.0294e-02,\n",
       "         1.8371e-02,  2.0162e-02,  5.2723e-02,  3.1826e-02,  7.9820e-02,\n",
       "        -2.2615e-02, -1.2922e-02,  2.9281e-02, -4.0543e-02,  2.9518e-02,\n",
       "        -2.1874e-02,  3.1156e-02,  2.0189e-02, -1.3550e-02, -5.2705e-03,\n",
       "        -2.3084e-02, -1.9819e-02, -2.4783e-02,  3.3353e-02,  2.9179e-02,\n",
       "         2.7299e-02, -6.1375e-02, -5.6526e-02, -3.3032e-02, -9.3000e-03,\n",
       "        -4.9232e-02,  1.7515e-02,  1.5723e-04,  4.1950e-02,  1.5298e-03,\n",
       "         2.1665e-02, -1.4809e-02, -5.5572e-03,  2.0765e-02, -1.2516e-01,\n",
       "        -1.4698e-02, -1.9372e-02,  3.5990e-02, -3.8247e-02,  2.1572e-02,\n",
       "         2.9327e-02,  2.7922e-02,  1.5580e-02, -3.0599e-03, -5.8863e-02,\n",
       "         2.7305e-02, -5.5920e-02,  3.1982e-02, -1.4460e-02,  1.7289e-03,\n",
       "         1.5635e-02,  5.7576e-03,  1.0281e-02, -2.6014e-02, -3.0991e-02,\n",
       "         1.8697e-02, -1.1755e-02, -2.0829e-02, -6.7695e-02, -3.7430e-02,\n",
       "         6.1012e-03, -8.4523e-02,  2.3132e-02, -4.0870e-02, -1.9162e-02,\n",
       "         2.8245e-02,  1.7551e-02,  1.6928e-02,  2.9338e-03, -1.9447e-02,\n",
       "         2.5811e-02,  4.8943e-02, -8.5410e-03,  1.2894e-02, -3.8754e-03,\n",
       "         3.1765e-02, -1.2418e-02, -1.6763e-02,  2.9094e-02,  2.1157e-02,\n",
       "        -3.0299e-02, -6.0085e-03,  4.6198e-02, -2.7152e-02, -1.7602e-02,\n",
       "        -1.7442e-02, -2.2278e-02, -4.5397e-03, -1.0027e-02, -5.3998e-02,\n",
       "        -6.2020e-04,  7.4131e-02,  3.9188e-02, -2.4729e-02,  6.7498e-02,\n",
       "        -3.7464e-02,  4.5096e-02, -1.2662e-02, -1.7929e-02, -4.7057e-02,\n",
       "         2.7481e-02, -5.5935e-02, -1.6809e-02,  2.6286e-02, -1.4688e-02,\n",
       "         3.7424e-02, -1.2535e-02, -7.3200e-02, -4.7958e-03,  5.9199e-02,\n",
       "         2.5743e-03,  5.8072e-03, -4.4093e-02,  2.7313e-05, -1.5184e-02,\n",
       "        -2.6648e-02,  3.1999e-03, -3.6497e-02,  2.1912e-02,  4.1799e-02,\n",
       "        -2.2130e-02, -6.1975e-03, -2.7367e-02,  5.9717e-02, -4.1750e-03,\n",
       "         1.9522e-02,  1.2246e-02,  3.6518e-03,  4.0522e-02,  1.5562e-02,\n",
       "        -3.8759e-02, -4.5094e-02, -5.2304e-02, -4.9907e-04, -3.5350e-04,\n",
       "         2.0997e-03, -8.0741e-03,  3.9754e-03, -4.0291e-02, -1.6454e-02,\n",
       "         5.6271e-02,  2.2924e-02,  5.3453e-02,  4.1425e-03, -3.4201e-03,\n",
       "        -1.2620e-02,  4.7328e-02,  3.5747e-02, -2.2189e-02, -4.5441e-02,\n",
       "         2.2914e-02,  1.4125e-02,  1.3870e-02, -4.3922e-04, -1.4089e-02,\n",
       "        -1.2320e-01, -3.3291e-02,  3.4097e-02, -3.3327e-02,  7.3870e-02,\n",
       "        -7.6450e-03, -2.2751e-02, -5.2557e-03, -1.1477e-02, -4.1812e-02,\n",
       "        -4.5127e-03,  4.3600e-03, -5.3720e-02, -3.4958e-02, -2.4141e-02,\n",
       "        -1.6592e-02,  2.8387e-02,  2.7372e-02,  1.2359e-02,  1.2508e-02,\n",
       "         5.9244e-02, -7.7720e-03, -5.1599e-02, -5.9168e-02, -5.1805e-03,\n",
       "        -2.4766e-02,  8.7117e-02, -1.0301e-02,  2.5854e-02,  1.5660e-02,\n",
       "        -1.1918e-02, -3.8154e-02,  4.1485e-02, -3.9895e-02,  8.9473e-03,\n",
       "        -2.7728e-02, -4.6630e-02,  5.5558e-02,  4.9884e-03,  8.6126e-03,\n",
       "         1.3483e-02, -4.1180e-02,  1.1224e-02,  9.0289e-02, -6.0104e-02,\n",
       "        -2.4267e-02, -5.5515e-03,  2.9795e-02,  2.8241e-02,  3.0042e-02,\n",
       "         5.4700e-02,  6.8502e-03, -5.4160e-03, -1.6662e-02,  6.9859e-03,\n",
       "        -5.0493e-02, -2.5682e-02,  5.3562e-02, -2.0688e-02, -1.0849e-02,\n",
       "        -1.9666e-02,  6.8892e-03, -7.1093e-03, -3.6273e-02,  4.8165e-02,\n",
       "         8.4488e-03, -5.6928e-02,  7.4537e-02,  3.0744e-02,  2.2662e-02,\n",
       "         3.5025e-02,  5.5128e-02, -1.7074e-02, -2.8346e-03, -7.2078e-03,\n",
       "         2.5832e-02, -6.5934e-03, -2.1727e-02,  6.5841e-03,  2.3630e-02,\n",
       "        -1.4168e-02, -1.2588e-02, -3.0439e-02, -1.0971e-03,  7.2068e-03,\n",
       "        -2.9024e-02,  1.4435e-02, -6.2058e-02, -4.5075e-03, -8.3186e-02,\n",
       "         9.9672e-03, -3.6742e-02, -2.4087e-02,  5.4419e-02,  1.1761e-02,\n",
       "        -2.1450e-02,  1.5103e-02,  7.3249e-03,  1.5779e-02,  1.8617e-02,\n",
       "        -1.8024e-02, -1.4823e-03,  2.1416e-02, -6.2160e-02, -3.4587e-02,\n",
       "        -2.1702e-02,  2.3358e-02,  1.2455e-02,  5.3045e-02,  7.8815e-04,\n",
       "         2.0273e-02, -8.8160e-03,  5.0786e-02,  5.7645e-02, -5.7182e-02,\n",
       "         6.2589e-02,  1.1783e-02,  5.1644e-03, -7.7581e-03,  4.7563e-02,\n",
       "        -1.1331e-01, -3.7584e-02,  2.0577e-02, -6.5623e-03,  2.4618e-02,\n",
       "         1.2217e-02,  4.3953e-02, -4.3590e-03, -3.2878e-02, -4.6197e-02,\n",
       "         6.8387e-03,  1.7502e-03,  1.2769e-02,  5.0042e-02,  1.4951e-02,\n",
       "         1.1201e-02, -6.5881e-04, -2.3936e-02,  2.7239e-02,  2.2286e-02,\n",
       "         1.3939e-03, -5.9222e-03,  2.2977e-02, -3.3482e-02,  3.0601e-02,\n",
       "        -7.2497e-33, -4.3660e-02, -7.5466e-03, -3.5851e-02,  1.0911e-02,\n",
       "        -2.1156e-02, -2.8090e-02,  9.7370e-03,  7.7682e-02,  8.2256e-04,\n",
       "        -3.1973e-02,  3.9889e-02, -4.6468e-03,  2.6923e-02,  1.9447e-02,\n",
       "        -5.1320e-03, -5.0106e-02,  1.0357e-02,  2.3469e-02, -2.2938e-02,\n",
       "        -4.4195e-02, -7.7281e-02,  1.5351e-02, -4.6439e-03,  3.7921e-02,\n",
       "        -2.0253e-02, -8.5767e-02, -3.3444e-02, -6.3741e-03,  1.1449e-02,\n",
       "         4.8982e-04, -2.0961e-04,  5.4385e-02, -6.8135e-03, -3.5424e-02,\n",
       "        -6.8115e-03, -7.1237e-02, -2.1988e-02,  5.1623e-03, -1.5598e-02,\n",
       "         4.1172e-03, -6.1615e-02, -5.9271e-02,  5.4123e-02,  4.5905e-02,\n",
       "         3.1568e-03,  9.8592e-03, -3.0041e-03,  3.0364e-04,  3.4456e-03,\n",
       "         5.3136e-02, -3.6172e-02,  3.3220e-02,  1.0489e-02,  3.5625e-03,\n",
       "        -4.4510e-02, -2.4480e-02,  8.3064e-03, -4.9246e-03, -4.8775e-02,\n",
       "        -5.7355e-02,  5.8268e-02, -4.6455e-02,  1.5416e-02, -3.3054e-02,\n",
       "        -2.2442e-02, -1.7137e-02,  2.2439e-02, -1.0023e-01,  3.9468e-02,\n",
       "        -7.4799e-03,  2.6037e-02,  4.0868e-02,  2.3012e-02,  1.2219e-02,\n",
       "        -6.6711e-02, -5.9543e-02, -5.3244e-03, -1.6847e-02, -5.1747e-02,\n",
       "        -6.9213e-02,  4.8305e-03, -8.0552e-03,  1.9256e-02,  2.0257e-04,\n",
       "        -1.2239e-02, -4.3981e-02, -2.6463e-02,  1.4053e-02, -4.5793e-03,\n",
       "         1.5271e-02,  1.1753e-02, -4.1268e-02,  8.3713e-03,  3.5684e-02,\n",
       "        -2.8544e-02, -2.8282e-02,  1.0719e-02,  1.6875e-03, -8.8521e-03,\n",
       "         6.1339e-02, -3.7778e-02,  5.3779e-02, -6.8622e-02, -2.4653e-03,\n",
       "        -2.0285e-02,  7.7697e-03,  3.2001e-02,  6.9617e-02, -4.7629e-02,\n",
       "         4.2593e-02,  1.6766e-02, -3.5156e-02,  5.3810e-02,  1.4338e-02,\n",
       "        -1.1126e-02, -5.3867e-02,  2.0923e-02,  7.9946e-02,  1.1121e-02,\n",
       "        -2.1647e-02,  4.6933e-02,  1.5087e-02,  8.5195e-02, -1.4575e-02,\n",
       "         1.5233e-02,  3.6610e-02,  7.5200e-02, -4.1628e-02,  2.0132e-02,\n",
       "         5.2489e-02,  4.4705e-03, -4.7606e-03,  3.0843e-07,  6.7519e-02,\n",
       "        -3.4968e-02, -2.7742e-02,  4.7811e-02,  2.6481e-02, -2.9757e-03,\n",
       "        -1.5630e-02,  2.5254e-02, -3.4939e-02,  3.2472e-02,  3.6264e-02,\n",
       "        -5.6491e-02, -7.2157e-03,  2.4173e-02,  4.5814e-02,  5.9982e-02,\n",
       "        -2.6315e-02, -5.3356e-02, -2.3124e-02, -4.0033e-02,  7.1390e-03,\n",
       "         4.2582e-02, -7.9514e-03,  1.9663e-02,  2.7228e-02,  5.4490e-03,\n",
       "         7.1336e-03, -6.0202e-02,  3.6929e-02, -2.1116e-03,  3.2756e-02,\n",
       "        -8.8063e-04,  2.5802e-02, -7.9421e-02,  2.1893e-02, -2.8478e-02,\n",
       "         1.7512e-02,  3.4028e-02,  1.0375e-02,  1.4781e-02,  1.4346e-02,\n",
       "        -5.8806e-02,  2.3446e-02, -1.1609e-01,  4.4655e-02, -1.1619e-02,\n",
       "        -1.0022e-02,  5.0922e-03,  6.8733e-03, -1.5773e-02,  2.0122e-02,\n",
       "         2.0537e-02,  1.0519e-02,  3.7988e-03,  8.6736e-03,  2.5432e-02,\n",
       "         3.4608e-02,  3.8519e-02,  1.1421e-03, -6.5522e-02,  1.0604e-02,\n",
       "        -4.6433e-03,  1.5317e-02, -6.6476e-02, -6.3640e-02, -2.6941e-03,\n",
       "        -3.6310e-02,  2.7268e-34,  2.0323e-02, -4.9135e-02,  2.0093e-03,\n",
       "         5.2514e-02, -1.0692e-02, -2.5126e-02, -2.0557e-02, -3.7524e-02,\n",
       "        -1.0513e-02,  4.0790e-02, -2.9216e-02])"
      ]
     },
     "metadata": {},
     "output_type": "display_data"
    }
   ],
   "source": [
    "import torch\n",
    "\n",
    "# Function to convert string to tensor\n",
    "def string_to_tensor(tensor_string):\n",
    "    # Remove 'tensor(' and ')' and split into components\n",
    "    tensor_string = tensor_string.replace('tensor([', '').replace('])', '')\n",
    "    # Split the string into individual numeric components\n",
    "    numbers = [float(x) for x in tensor_string.split(',')]\n",
    "    # Convert to PyTorch tensor\n",
    "    return torch.tensor(numbers)\n",
    "\n",
    "string_to_tensor(reviews_df.iloc[0]['embedding'])"
   ]
  },
  {
   "cell_type": "code",
   "execution_count": null,
   "metadata": {},
   "outputs": [
    {
     "name": "stderr",
     "output_type": "stream",
     "text": [
      "100%|██████████| 3903/3903 [00:02<00:00, 1583.03it/s]\n"
     ]
    },
    {
     "data": {
      "text/plain": [
       "0    [tensor(-0.0201), tensor(0.1498), tensor(0.005...\n",
       "1    [tensor(-0.0318), tensor(0.0438), tensor(0.003...\n",
       "2    [tensor(0.0084), tensor(0.0685), tensor(0.0164...\n",
       "3    [tensor(-0.0502), tensor(0.0136), tensor(0.009...\n",
       "4    [tensor(-0.0236), tensor(0.0214), tensor(-0.00...\n",
       "Name: embedding, dtype: object"
      ]
     },
     "metadata": {},
     "output_type": "display_data"
    }
   ],
   "source": [
    "from tqdm import tqdm\n",
    "tqdm.pandas()\n",
    "\n",
    "# Convert the 'embedding' column into tensors\n",
    "reviews_df['embedding'] = reviews_df['embedding'].progress_apply(string_to_tensor)\n",
    "\n",
    "# Verify the conversion\n",
    "reviews_df['embedding'].head()"
   ]
  },
  {
   "cell_type": "markdown",
   "metadata": {},
   "source": [
    "## Recommendations"
   ]
  },
  {
   "cell_type": "code",
   "execution_count": null,
   "metadata": {},
   "outputs": [],
   "source": [
    "# Recommend by similarity\n",
    "def recommend_with_embedding(query, subset=None, top_n=5):\n",
    "    query_embedding = embedder.encode(query, convert_to_tensor=True)\n",
    "    recommended_reviews = reviews_df.copy()\n",
    "    if subset:\n",
    "        recommended_reviews = recommended_reviews[recommended_reviews['restaurant_id'].isin(subset)]\n",
    "    recommended_reviews['similarity'] = recommended_reviews['embedding'].apply(\n",
    "        lambda x: util.cos_sim(query_embedding, x).item()\n",
    "    )\n",
    "    return recommended_reviews.nlargest(top_n, 'similarity')[['restaurant_name', 'text', 'similarity']]"
   ]
  },
  {
   "cell_type": "code",
   "execution_count": null,
   "metadata": {},
   "outputs": [
    {
     "data": {
      "text/html": [
       "<div>\n",
       "<style scoped>\n",
       "    .dataframe tbody tr th:only-of-type {\n",
       "        vertical-align: middle;\n",
       "    }\n",
       "\n",
       "    .dataframe tbody tr th {\n",
       "        vertical-align: top;\n",
       "    }\n",
       "\n",
       "    .dataframe thead th {\n",
       "        text-align: right;\n",
       "    }\n",
       "</style>\n",
       "<table border=\"1\" class=\"dataframe\">\n",
       "  <thead>\n",
       "    <tr style=\"text-align: right;\">\n",
       "      <th></th>\n",
       "      <th>restaurant_id</th>\n",
       "      <th>restaurant_name</th>\n",
       "      <th>source</th>\n",
       "      <th>author</th>\n",
       "      <th>rating</th>\n",
       "      <th>text</th>\n",
       "      <th>timestamp</th>\n",
       "      <th>sentiment</th>\n",
       "      <th>confidence</th>\n",
       "      <th>embedding</th>\n",
       "    </tr>\n",
       "  </thead>\n",
       "  <tbody>\n",
       "    <tr>\n",
       "      <th>0</th>\n",
       "      <td>110681</td>\n",
       "      <td>One White Street</td>\n",
       "      <td>Google</td>\n",
       "      <td>Muris and Diana Husremovic</td>\n",
       "      <td>5.0</td>\n",
       "      <td>One White Street  delivered great food and exc...</td>\n",
       "      <td>2024-11-07 21:53:43.158827+00:00</td>\n",
       "      <td>POSITIVE</td>\n",
       "      <td>0.999879</td>\n",
       "      <td>[tensor(-0.0201), tensor(0.1498), tensor(0.005...</td>\n",
       "    </tr>\n",
       "    <tr>\n",
       "      <th>1</th>\n",
       "      <td>110681</td>\n",
       "      <td>One White Street</td>\n",
       "      <td>Google</td>\n",
       "      <td>Nicolas Tahon</td>\n",
       "      <td>4.0</td>\n",
       "      <td>Excellent food,full of flavor, creative and co...</td>\n",
       "      <td>2024-10-05 19:12:24.134670+00:00</td>\n",
       "      <td>POSITIVE</td>\n",
       "      <td>0.999713</td>\n",
       "      <td>[tensor(-0.0318), tensor(0.0438), tensor(0.003...</td>\n",
       "    </tr>\n",
       "    <tr>\n",
       "      <th>2</th>\n",
       "      <td>110681</td>\n",
       "      <td>One White Street</td>\n",
       "      <td>Google</td>\n",
       "      <td>D H</td>\n",
       "      <td>2.0</td>\n",
       "      <td>This restaurant falls short of the standards e...</td>\n",
       "      <td>2024-11-19 05:15:20.893841+00:00</td>\n",
       "      <td>NEGATIVE</td>\n",
       "      <td>0.998981</td>\n",
       "      <td>[tensor(0.0084), tensor(0.0685), tensor(0.0164...</td>\n",
       "    </tr>\n",
       "    <tr>\n",
       "      <th>3</th>\n",
       "      <td>110681</td>\n",
       "      <td>One White Street</td>\n",
       "      <td>Google</td>\n",
       "      <td>Ya'el Carmel</td>\n",
       "      <td>5.0</td>\n",
       "      <td>Wow!!!!! One of my favorite dining experiences...</td>\n",
       "      <td>2024-08-22 20:00:06.258768+00:00</td>\n",
       "      <td>POSITIVE</td>\n",
       "      <td>0.999617</td>\n",
       "      <td>[tensor(-0.0502), tensor(0.0136), tensor(0.009...</td>\n",
       "    </tr>\n",
       "    <tr>\n",
       "      <th>4</th>\n",
       "      <td>110681</td>\n",
       "      <td>One White Street</td>\n",
       "      <td>Google</td>\n",
       "      <td>Arsene Zhu</td>\n",
       "      <td>4.0</td>\n",
       "      <td>Amazing! Will definitely come back. Went for d...</td>\n",
       "      <td>2024-07-17 17:18:46.227649+00:00</td>\n",
       "      <td>POSITIVE</td>\n",
       "      <td>0.996644</td>\n",
       "      <td>[tensor(-0.0236), tensor(0.0214), tensor(-0.00...</td>\n",
       "    </tr>\n",
       "  </tbody>\n",
       "</table>\n",
       "</div>"
      ],
      "text/plain": [
       "   restaurant_id   restaurant_name  source                      author  \\\n",
       "0         110681  One White Street  Google  Muris and Diana Husremovic   \n",
       "1         110681  One White Street  Google               Nicolas Tahon   \n",
       "2         110681  One White Street  Google                         D H   \n",
       "3         110681  One White Street  Google                Ya'el Carmel   \n",
       "4         110681  One White Street  Google                  Arsene Zhu   \n",
       "\n",
       "   rating                                               text  \\\n",
       "0     5.0  One White Street  delivered great food and exc...   \n",
       "1     4.0  Excellent food,full of flavor, creative and co...   \n",
       "2     2.0  This restaurant falls short of the standards e...   \n",
       "3     5.0  Wow!!!!! One of my favorite dining experiences...   \n",
       "4     4.0  Amazing! Will definitely come back. Went for d...   \n",
       "\n",
       "                          timestamp sentiment  confidence  \\\n",
       "0  2024-11-07 21:53:43.158827+00:00  POSITIVE    0.999879   \n",
       "1  2024-10-05 19:12:24.134670+00:00  POSITIVE    0.999713   \n",
       "2  2024-11-19 05:15:20.893841+00:00  NEGATIVE    0.998981   \n",
       "3  2024-08-22 20:00:06.258768+00:00  POSITIVE    0.999617   \n",
       "4  2024-07-17 17:18:46.227649+00:00  POSITIVE    0.996644   \n",
       "\n",
       "                                           embedding  \n",
       "0  [tensor(-0.0201), tensor(0.1498), tensor(0.005...  \n",
       "1  [tensor(-0.0318), tensor(0.0438), tensor(0.003...  \n",
       "2  [tensor(0.0084), tensor(0.0685), tensor(0.0164...  \n",
       "3  [tensor(-0.0502), tensor(0.0136), tensor(0.009...  \n",
       "4  [tensor(-0.0236), tensor(0.0214), tensor(-0.00...  "
      ]
     },
     "metadata": {},
     "output_type": "display_data"
    }
   ],
   "source": [
    "reviews_df.head()"
   ]
  },
  {
   "cell_type": "code",
   "execution_count": null,
   "metadata": {},
   "outputs": [
    {
     "data": {
      "text/html": [
       "<div>\n",
       "<style scoped>\n",
       "    .dataframe tbody tr th:only-of-type {\n",
       "        vertical-align: middle;\n",
       "    }\n",
       "\n",
       "    .dataframe tbody tr th {\n",
       "        vertical-align: top;\n",
       "    }\n",
       "\n",
       "    .dataframe thead th {\n",
       "        text-align: right;\n",
       "    }\n",
       "</style>\n",
       "<table border=\"1\" class=\"dataframe\">\n",
       "  <thead>\n",
       "    <tr style=\"text-align: right;\">\n",
       "      <th></th>\n",
       "      <th>restaurant_name</th>\n",
       "      <th>text</th>\n",
       "      <th>similarity</th>\n",
       "    </tr>\n",
       "  </thead>\n",
       "  <tbody>\n",
       "    <tr>\n",
       "      <th>1450</th>\n",
       "      <td>Scalottas - Terroir</td>\n",
       "      <td>A nice concept around locally sourced product....</td>\n",
       "      <td>0.558605</td>\n",
       "    </tr>\n",
       "    <tr>\n",
       "      <th>3059</th>\n",
       "      <td>L'Auberge de Montmin</td>\n",
       "      <td>Beautifully presented meal of local ingredient...</td>\n",
       "      <td>0.558434</td>\n",
       "    </tr>\n",
       "    <tr>\n",
       "      <th>2458</th>\n",
       "      <td>Wolfs Junge</td>\n",
       "      <td>Nicely prepared dishes with all local ingredie...</td>\n",
       "      <td>0.542627</td>\n",
       "    </tr>\n",
       "    <tr>\n",
       "      <th>3899</th>\n",
       "      <td>TIAN</td>\n",
       "      <td>[homemade] Couscous, vegetable tian, goat chee...</td>\n",
       "      <td>0.531292</td>\n",
       "    </tr>\n",
       "    <tr>\n",
       "      <th>3285</th>\n",
       "      <td>Les Jardins Sauvages - La Grée des Landes</td>\n",
       "      <td>Superb experience, lots of veggie, vegan and/o...</td>\n",
       "      <td>0.524135</td>\n",
       "    </tr>\n",
       "  </tbody>\n",
       "</table>\n",
       "</div>"
      ],
      "text/plain": [
       "                                restaurant_name  \\\n",
       "1450                        Scalottas - Terroir   \n",
       "3059                       L'Auberge de Montmin   \n",
       "2458                                Wolfs Junge   \n",
       "3899                                       TIAN   \n",
       "3285  Les Jardins Sauvages - La Grée des Landes   \n",
       "\n",
       "                                                   text  similarity  \n",
       "1450  A nice concept around locally sourced product....    0.558605  \n",
       "3059  Beautifully presented meal of local ingredient...    0.558434  \n",
       "2458  Nicely prepared dishes with all local ingredie...    0.542627  \n",
       "3899  [homemade] Couscous, vegetable tian, goat chee...    0.531292  \n",
       "3285  Superb experience, lots of veggie, vegan and/o...    0.524135  "
      ]
     },
     "metadata": {},
     "output_type": "display_data"
    }
   ],
   "source": [
    "recommendations = recommend_with_embedding(\"family-friendly with locally grown ingredients\", top_n=5)\n",
    "recommendations"
   ]
  },
  {
   "cell_type": "code",
   "execution_count": null,
   "metadata": {},
   "outputs": [
    {
     "data": {
      "text/html": [
       "<div>\n",
       "<style scoped>\n",
       "    .dataframe tbody tr th:only-of-type {\n",
       "        vertical-align: middle;\n",
       "    }\n",
       "\n",
       "    .dataframe tbody tr th {\n",
       "        vertical-align: top;\n",
       "    }\n",
       "\n",
       "    .dataframe thead th {\n",
       "        text-align: right;\n",
       "    }\n",
       "</style>\n",
       "<table border=\"1\" class=\"dataframe\">\n",
       "  <thead>\n",
       "    <tr style=\"text-align: right;\">\n",
       "      <th></th>\n",
       "      <th>restaurant_name</th>\n",
       "      <th>text</th>\n",
       "      <th>similarity</th>\n",
       "    </tr>\n",
       "  </thead>\n",
       "  <tbody>\n",
       "    <tr>\n",
       "      <th>2183</th>\n",
       "      <td>K2</td>\n",
       "      <td>It’s a very green restaurant, where chef besid...</td>\n",
       "      <td>0.613815</td>\n",
       "    </tr>\n",
       "    <tr>\n",
       "      <th>1756</th>\n",
       "      <td>White Lily Diner</td>\n",
       "      <td>Waitlist for a weekday lunch but luckily we ch...</td>\n",
       "      <td>0.585925</td>\n",
       "    </tr>\n",
       "    <tr>\n",
       "      <th>547</th>\n",
       "      <td>Espacio Amunt</td>\n",
       "      <td>Best dining experience you can have around the...</td>\n",
       "      <td>0.571721</td>\n",
       "    </tr>\n",
       "    <tr>\n",
       "      <th>1786</th>\n",
       "      <td>Little Tree Food (Da'an Road)</td>\n",
       "      <td>The portions here are great, but I found some ...</td>\n",
       "      <td>0.568223</td>\n",
       "    </tr>\n",
       "    <tr>\n",
       "      <th>2737</th>\n",
       "      <td>Broeding</td>\n",
       "      <td>During my recent trip to Europe, I had the ple...</td>\n",
       "      <td>0.558545</td>\n",
       "    </tr>\n",
       "  </tbody>\n",
       "</table>\n",
       "</div>"
      ],
      "text/plain": [
       "                    restaurant_name  \\\n",
       "2183                             K2   \n",
       "1756               White Lily Diner   \n",
       "547                   Espacio Amunt   \n",
       "1786  Little Tree Food (Da'an Road)   \n",
       "2737                       Broeding   \n",
       "\n",
       "                                                   text  similarity  \n",
       "2183  It’s a very green restaurant, where chef besid...    0.613815  \n",
       "1756  Waitlist for a weekday lunch but luckily we ch...    0.585925  \n",
       "547   Best dining experience you can have around the...    0.571721  \n",
       "1786  The portions here are great, but I found some ...    0.568223  \n",
       "2737  During my recent trip to Europe, I had the ple...    0.558545  "
      ]
     },
     "metadata": {},
     "output_type": "display_data"
    }
   ],
   "source": [
    "recommendations = recommend_with_embedding(\"cheap but generous meal\", top_n=5)\n",
    "recommendations"
   ]
  },
  {
   "cell_type": "code",
   "execution_count": null,
   "metadata": {},
   "outputs": [],
   "source": [
    "recommendations = recommend_with_embedding(\"Find a family-friendly vegan restaurant in New York under $50\", top_n=5)\n",
    "recommendations"
   ]
  },
  {
   "cell_type": "code",
   "execution_count": null,
   "metadata": {},
   "outputs": [
    {
     "data": {
      "text/html": [
       "<div>\n",
       "<style scoped>\n",
       "    .dataframe tbody tr th:only-of-type {\n",
       "        vertical-align: middle;\n",
       "    }\n",
       "\n",
       "    .dataframe tbody tr th {\n",
       "        vertical-align: top;\n",
       "    }\n",
       "\n",
       "    .dataframe thead th {\n",
       "        text-align: right;\n",
       "    }\n",
       "</style>\n",
       "<table border=\"1\" class=\"dataframe\">\n",
       "  <thead>\n",
       "    <tr style=\"text-align: right;\">\n",
       "      <th></th>\n",
       "      <th>restaurant_name</th>\n",
       "      <th>text</th>\n",
       "      <th>similarity</th>\n",
       "    </tr>\n",
       "  </thead>\n",
       "  <tbody>\n",
       "    <tr>\n",
       "      <th>2412</th>\n",
       "      <td>Unkaku</td>\n",
       "      <td>Well worthy dining experience. Great service a...</td>\n",
       "      <td>0.488642</td>\n",
       "    </tr>\n",
       "    <tr>\n",
       "      <th>2377</th>\n",
       "      <td>Kashiwaya Osaka Senriyama</td>\n",
       "      <td>Very romantic lunch at this purely Japanese re...</td>\n",
       "      <td>0.459686</td>\n",
       "    </tr>\n",
       "    <tr>\n",
       "      <th>2374</th>\n",
       "      <td>Kashiwaya Osaka Senriyama</td>\n",
       "      <td>3 Michelin stars - absolutely agree with this ...</td>\n",
       "      <td>0.442298</td>\n",
       "    </tr>\n",
       "    <tr>\n",
       "      <th>2410</th>\n",
       "      <td>Unkaku</td>\n",
       "      <td>Very good Japanese standard meal. Pretty fresh...</td>\n",
       "      <td>0.424546</td>\n",
       "    </tr>\n",
       "    <tr>\n",
       "      <th>2408</th>\n",
       "      <td>Unkaku</td>\n",
       "      <td>Excellent food! Masterfully prepared with grea...</td>\n",
       "      <td>0.422375</td>\n",
       "    </tr>\n",
       "  </tbody>\n",
       "</table>\n",
       "</div>"
      ],
      "text/plain": [
       "                restaurant_name  \\\n",
       "2412                     Unkaku   \n",
       "2377  Kashiwaya Osaka Senriyama   \n",
       "2374  Kashiwaya Osaka Senriyama   \n",
       "2410                     Unkaku   \n",
       "2408                     Unkaku   \n",
       "\n",
       "                                                   text  similarity  \n",
       "2412  Well worthy dining experience. Great service a...    0.488642  \n",
       "2377  Very romantic lunch at this purely Japanese re...    0.459686  \n",
       "2374  3 Michelin stars - absolutely agree with this ...    0.442298  \n",
       "2410  Very good Japanese standard meal. Pretty fresh...    0.424546  \n",
       "2408  Excellent food! Masterfully prepared with grea...    0.422375  "
      ]
     },
     "metadata": {},
     "output_type": "display_data"
    }
   ],
   "source": [
    "recommendations = recommend_with_embedding(\n",
    "    \"cheap but generous meal\", \n",
    "    subset=[100094, 99906, 99779], \n",
    "    top_n=5)\n",
    "recommendations"
   ]
  },
  {
   "cell_type": "markdown",
   "metadata": {},
   "source": [
    "# **Step 3: Generate Conversational Responses**"
   ]
  },
  {
   "cell_type": "code",
   "execution_count": 81,
   "metadata": {},
   "outputs": [
    {
     "name": "stderr",
     "output_type": "stream",
     "text": [
      "c:\\Users\\Joyce\\Documents\\GitHub\\webscraping-ml-project\\.venv\\Lib\\site-packages\\huggingface_hub\\file_download.py:140: UserWarning: `huggingface_hub` cache-system uses symlinks by default to efficiently store duplicated files but your machine does not support them in C:\\Users\\Joyce\\.cache\\huggingface\\hub\\models--t5-small. Caching files will still work but in a degraded version that might require more space on your disk. This warning can be disabled by setting the `HF_HUB_DISABLE_SYMLINKS_WARNING` environment variable. For more details, see https://huggingface.co/docs/huggingface_hub/how-to-cache#limitations.\n",
      "To support symlinks on Windows, you either need to activate Developer Mode or to run Python as an administrator. In order to activate developer mode, see this article: https://docs.microsoft.com/en-us/windows/apps/get-started/enable-your-device-for-development\n",
      "  warnings.warn(message)\n",
      "Device set to use cpu\n"
     ]
    }
   ],
   "source": [
    "from transformers import AutoModelForCausalLM, AutoTokenizer\n",
    "import torch\n",
    "\n",
    "# Load a conversational model\n",
    "tokenizer = AutoTokenizer.from_pretrained(\"microsoft/DialoGPT-medium\")\n",
    "model = AutoModelForCausalLM.from_pretrained(\"microsoft/DialoGPT-medium\")\n",
    "\n",
    "summarizer = pipeline(\"summarization\", model=\"t5-small\", tokenizer=\"t5-small\")"
   ]
  },
  {
   "cell_type": "markdown",
   "metadata": {},
   "source": [
    "## Helper Functions"
   ]
  },
  {
   "cell_type": "code",
   "execution_count": 82,
   "metadata": {},
   "outputs": [],
   "source": [
    "def extract_entity(user_input, entity_type):\n",
    "    # Example: Simple keyword matching for restaurant names\n",
    "    if entity_type == 'restaurant_name':\n",
    "        for restaurant in reviews_df['restaurant_name'].unique():\n",
    "            if restaurant.lower() in user_input.lower():\n",
    "                return restaurant\n",
    "    return None"
   ]
  },
  {
   "cell_type": "code",
   "execution_count": 113,
   "metadata": {},
   "outputs": [],
   "source": [
    "def fetch_restaurant_details(restaurant_name):\n",
    "    details = reviews_df[reviews_df['restaurant_name'].str.lower() == restaurant_name.lower()]\n",
    "    details['text'] = details['text'].fillna('')\n",
    "    if not details.empty:\n",
    "        all_reviews = \"\\n\".join(details['text'].tolist())\n",
    "        all_reviews = f\"Information about the restaurant {restaurant_name}:\\n\" + all_reviews\n",
    "        summary = summarizer(all_reviews, max_length=100, min_length=20, do_sample=False)\n",
    "        return summary[0]['summary_text']\n",
    "        # return details.iloc[0].to_dict()  # Return details as a dictionary\n",
    "    return None\n",
    "\n",
    "def fetch_restaurant_reviews(restaurant_name):\n",
    "    reviews = reviews_df[reviews_df['restaurant_name'].str.lower() == restaurant_name.lower()]['text'].tolist()\n",
    "    return reviews if reviews else None\n",
    "\n",
    "def fetch_opening_hours(restaurant_name):\n",
    "    hours = restaurants[restaurants['name'].str.lower() == restaurant_name.lower()]['google_opening_hours'].values\n",
    "    return hours[0] if len(hours) > 0 else None\n"
   ]
  },
  {
   "cell_type": "markdown",
   "metadata": {},
   "source": [
    "## Understand User Input"
   ]
  },
  {
   "cell_type": "code",
   "execution_count": 104,
   "metadata": {},
   "outputs": [],
   "source": [
    "# Define responses for each intent\n",
    "def handle_intent(intent, user_input, history):\n",
    "    if intent == 'recommend restaurant':\n",
    "        # Use the recommendation logic\n",
    "        recommendations = recommend_with_embedding(user_input, top_n=3)\n",
    "        response = \"Based on your preferences, here are some recommendations:\\n\"\n",
    "        for idx, row in recommendations.iterrows():\n",
    "            response += f\"{idx + 1}. {row['restaurant_name']} - Similarity: {row['similarity']:.2f}\\n\"\n",
    "        return response, history\n",
    "    \n",
    "    elif intent == 'get details':\n",
    "        # Extract restaurant name from input and fetch details\n",
    "        restaurant_name = extract_entity(user_input, 'restaurant_name')\n",
    "        details = fetch_restaurant_details(restaurant_name)  # Assume function defined elsewhere\n",
    "        if details:\n",
    "            response = f\"Here are the details for {restaurant_name}:\\n{details}\"\n",
    "        else:\n",
    "            response = f\"Sorry, I couldn't find details for {restaurant_name}.\"\n",
    "        return response, history\n",
    "\n",
    "    elif intent == 'get reviews':\n",
    "        # Extract restaurant name and fetch reviews\n",
    "        restaurant_name = extract_entity(user_input, 'restaurant_name')\n",
    "        reviews = fetch_restaurant_reviews(restaurant_name)  # Assume function defined elsewhere\n",
    "        if reviews:\n",
    "            response = f\"Here are some reviews for {restaurant_name}:\\n\" + \"\\n\".join(reviews[:3])\n",
    "        else:\n",
    "            response = f\"Sorry, I couldn't find reviews for {restaurant_name}.\"\n",
    "        return response, history\n",
    "\n",
    "    elif intent == 'get hours':\n",
    "        # Extract restaurant name and fetch hours\n",
    "        restaurant_name = extract_entity(user_input, 'restaurant_name')\n",
    "        hours = fetch_opening_hours(restaurant_name)  # Assume function defined elsewhere\n",
    "        if hours:\n",
    "            response = f\"{restaurant_name} is open during these hours:\\n{hours}\"\n",
    "        else:\n",
    "            response = f\"Sorry, I couldn't find the hours for {restaurant_name}.\"\n",
    "        return response, history\n",
    "\n",
    "    elif intent == 'help':\n",
    "        response = (\"I can assist you with the following:\\n\"\n",
    "                    \"- Recommend a restaurant\\n\"\n",
    "                    \"- Get details about a specific restaurant\\n\"\n",
    "                    \"- Fetch reviews\\n\"\n",
    "                    \"- Check opening hours\\n\"\n",
    "                    \"How can I assist you today?\")\n",
    "        return response, history\n",
    "\n",
    "    elif intent == 'goodbye':\n",
    "        response = \"Goodbye! Let me know if I can assist you again.\"\n",
    "        return response, history\n",
    "    \n",
    "    # elif intent == 'chitchat':\n",
    "    #     return None, history # Placeholder for chitchat logic\n",
    "\n",
    "    else:\n",
    "        response = \"I'm sorry, I didn't understand that. Could you rephrase?\"\n",
    "        return response, history"
   ]
  },
  {
   "cell_type": "markdown",
   "metadata": {},
   "source": [
    "## Handle Conversation"
   ]
  },
  {
   "cell_type": "code",
   "execution_count": 100,
   "metadata": {},
   "outputs": [],
   "source": [
    "# Generate chatbot response\n",
    "def chat_with_user(user_input, history):\n",
    "    # Check for specific keywords or intents\n",
    "    \n",
    "    intent = get_intent(user_input)\n",
    "    \n",
    "    response, history = handle_intent(intent, user_input, history)\n",
    "    if response:\n",
    "        return response, history\n",
    "    # if intent == 'recommend restaurant':\n",
    "    #     # Get recommendations\n",
    "    #     recommendations = recommend_with_embedding(user_input, top_n=3)\n",
    "    #     response = recommendations.to_string(index=False)\n",
    "    #     return response, history\n",
    "    \n",
    "    # Fallback to conversational model\n",
    "    new_user_input_ids = tokenizer.encode(user_input + tokenizer.eos_token, return_tensors='pt')\n",
    "    bot_input_ids = torch.cat([history, new_user_input_ids], dim=-1) if history is not None else new_user_input_ids\n",
    "    history = model.generate(bot_input_ids, max_length=1000, pad_token_id=tokenizer.eos_token_id)\n",
    "    response = tokenizer.decode(history[:, bot_input_ids.shape[-1]:][0], skip_special_tokens=True)\n",
    "    return response, history"
   ]
  },
  {
   "cell_type": "code",
   "execution_count": 112,
   "metadata": {},
   "outputs": [
    {
     "name": "stdout",
     "output_type": "stream",
     "text": [
      "You: Suggest a chill vegan restaurant to eat at with friends\n",
      "Chatbot: Based on your preferences, here are some recommendations:\n",
      "1800. Teible - Similarity: 0.71\n",
      "1307. DAR - Similarity: 0.63\n",
      "405. The BARN - Similarity: 0.63\n",
      "\n",
      "You: Tell me more about The BARN please\n"
     ]
    },
    {
     "name": "stderr",
     "output_type": "stream",
     "text": [
      "C:\\Users\\Joyce\\AppData\\Local\\Temp\\ipykernel_24188\\1931184142.py:3: SettingWithCopyWarning: \n",
      "A value is trying to be set on a copy of a slice from a DataFrame.\n",
      "Try using .loc[row_indexer,col_indexer] = value instead\n",
      "\n",
      "See the caveats in the documentation: https://pandas.pydata.org/pandas-docs/stable/user_guide/indexing.html#returning-a-view-versus-a-copy\n",
      "  details['text'] = details['text'].fillna('')\n"
     ]
    },
    {
     "name": "stdout",
     "output_type": "stream",
     "text": [
      "Chatbot: Here are the details for The BARN:\n",
      "the chef in Residence at Stone Barns dining series has an american focus . the restaurant highlights the more “exotic” flora or plants with flavors that start from the farm . in the area, there are Eleven Madison Park, Blue Hill at stone Barns and Dirt Candy .\n",
      "You: How do I use the chatbot?\n",
      "Chatbot: I'm sorry, I didn't understand that. Could you rephrase?\n",
      "You: Help me understand how to use you\n",
      "Chatbot: I can assist you with the following:\n",
      "- Recommend a restaurant\n",
      "- Get details about a specific restaurant\n",
      "- Fetch reviews\n",
      "- Check opening hours\n",
      "How can I assist you today?\n",
      "You: What do people say about Teible?\n",
      "Chatbot: Here are some reviews for Teible:\n",
      "Prime location with beautiful views of the creek. We were 3 guys for a quick gathering, and nobody was there except us, but the music was very loud. I asked if they could reduce the volume a little bit so we could hear each other, but they said it's not possible because it's a central system across the place?! 🤷‍♂️🤷‍♂️\n",
      "We ordered Iced Latte, which is nothing more than a little bit of milk and a shot of coffee, but it was a tiny amount for AED 27!!! Come on guys, show us some generosity 😅😅\n",
      "This is a great restaurant  already ready in my top top 5 globally. The awards are well deserved. Each dish has a brilliant back story.\n",
      "\n",
      "Christopher  is a wonderful host full of knowledge the waiter was great too. Outstanding locally sourced ingredients perfectly prepared.\n",
      "\n",
      "Great venue and atmosphere organically contemporary.  The menu being seasonal is brilliant giving you a variety every season.\n",
      "\n",
      "Truly a dining experience!\n",
      "We Came for a Brunch on a Sunday.\n",
      "\n",
      "Food: fusion of asian medditerenean , presentation and taste were wonderful.\n",
      "\n",
      "Atmosphere: chilled, creek view, perfect music for people to catchup and enjoy a chat.\n",
      "\n",
      "Service: Ashish gave us an insightful background of the food and restaurent concept. Everything inside is recyclable and a huge turn towards sustainability when it comes to food leftovers .\n",
      "You: \n"
     ]
    },
    {
     "ename": "ValueError",
     "evalue": "You must include at least one label and at least one sequence.",
     "output_type": "error",
     "traceback": [
      "\u001b[1;31m---------------------------------------------------------------------------\u001b[0m",
      "\u001b[1;31mValueError\u001b[0m                                Traceback (most recent call last)",
      "Cell \u001b[1;32mIn[112], line 14\u001b[0m\n\u001b[0;32m     12\u001b[0m     \u001b[38;5;28mprint\u001b[39m(\u001b[38;5;124m\"\u001b[39m\u001b[38;5;124mChatbot: Goodbye!\u001b[39m\u001b[38;5;124m\"\u001b[39m)\n\u001b[0;32m     13\u001b[0m     \u001b[38;5;28;01mbreak\u001b[39;00m\n\u001b[1;32m---> 14\u001b[0m response, history \u001b[38;5;241m=\u001b[39m \u001b[43mchat_with_user\u001b[49m\u001b[43m(\u001b[49m\u001b[43muser_input\u001b[49m\u001b[43m,\u001b[49m\u001b[43m \u001b[49m\u001b[43mhistory\u001b[49m\u001b[43m)\u001b[49m\n\u001b[0;32m     15\u001b[0m \u001b[38;5;28mprint\u001b[39m(\u001b[38;5;124mf\u001b[39m\u001b[38;5;124m\"\u001b[39m\u001b[38;5;124mChatbot: \u001b[39m\u001b[38;5;132;01m{\u001b[39;00mresponse\u001b[38;5;132;01m}\u001b[39;00m\u001b[38;5;124m\"\u001b[39m)\n",
      "Cell \u001b[1;32mIn[100], line 5\u001b[0m, in \u001b[0;36mchat_with_user\u001b[1;34m(user_input, history)\u001b[0m\n\u001b[0;32m      2\u001b[0m \u001b[38;5;28;01mdef\u001b[39;00m \u001b[38;5;21mchat_with_user\u001b[39m(user_input, history):\n\u001b[0;32m      3\u001b[0m     \u001b[38;5;66;03m# Check for specific keywords or intents\u001b[39;00m\n\u001b[1;32m----> 5\u001b[0m     intent \u001b[38;5;241m=\u001b[39m \u001b[43mget_intent\u001b[49m\u001b[43m(\u001b[49m\u001b[43muser_input\u001b[49m\u001b[43m)\u001b[49m\n\u001b[0;32m      7\u001b[0m     response, history \u001b[38;5;241m=\u001b[39m handle_intent(intent, user_input, history)\n\u001b[0;32m      8\u001b[0m     \u001b[38;5;28;01mif\u001b[39;00m response:\n",
      "Cell \u001b[1;32mIn[98], line 3\u001b[0m, in \u001b[0;36mget_intent\u001b[1;34m(query)\u001b[0m\n\u001b[0;32m      1\u001b[0m \u001b[38;5;28;01mdef\u001b[39;00m \u001b[38;5;21mget_intent\u001b[39m(query):\n\u001b[0;32m      2\u001b[0m     candidate_labels \u001b[38;5;241m=\u001b[39m [\u001b[38;5;124m'\u001b[39m\u001b[38;5;124mrecommend restaurant\u001b[39m\u001b[38;5;124m'\u001b[39m, \u001b[38;5;124m'\u001b[39m\u001b[38;5;124mget details\u001b[39m\u001b[38;5;124m'\u001b[39m, \u001b[38;5;124m'\u001b[39m\u001b[38;5;124mget reviews\u001b[39m\u001b[38;5;124m'\u001b[39m, \u001b[38;5;124m'\u001b[39m\u001b[38;5;124mget hours\u001b[39m\u001b[38;5;124m'\u001b[39m, \u001b[38;5;124m'\u001b[39m\u001b[38;5;124mhelp\u001b[39m\u001b[38;5;124m'\u001b[39m, \u001b[38;5;124m'\u001b[39m\u001b[38;5;124mgoodbye\u001b[39m\u001b[38;5;124m'\u001b[39m, \u001b[38;5;124m'\u001b[39m\u001b[38;5;124mchitchat\u001b[39m\u001b[38;5;124m'\u001b[39m, \u001b[38;5;124m'\u001b[39m\u001b[38;5;124mother\u001b[39m\u001b[38;5;124m'\u001b[39m]\n\u001b[1;32m----> 3\u001b[0m     intent \u001b[38;5;241m=\u001b[39m \u001b[43mintent_classifier\u001b[49m\u001b[43m(\u001b[49m\u001b[43mquery\u001b[49m\u001b[43m,\u001b[49m\u001b[43m \u001b[49m\u001b[43mcandidate_labels\u001b[49m\u001b[38;5;241;43m=\u001b[39;49m\u001b[43mcandidate_labels\u001b[49m\u001b[43m)\u001b[49m\n\u001b[0;32m      4\u001b[0m     label \u001b[38;5;241m=\u001b[39m intent_classifier(query, candidate_labels\u001b[38;5;241m=\u001b[39mcandidate_labels)[\u001b[38;5;124m'\u001b[39m\u001b[38;5;124mlabels\u001b[39m\u001b[38;5;124m'\u001b[39m][\u001b[38;5;241m0\u001b[39m]\n\u001b[0;32m      5\u001b[0m     score \u001b[38;5;241m=\u001b[39m intent[\u001b[38;5;124m'\u001b[39m\u001b[38;5;124mscores\u001b[39m\u001b[38;5;124m'\u001b[39m][\u001b[38;5;241m0\u001b[39m]\n",
      "File \u001b[1;32mc:\\Users\\Joyce\\Documents\\GitHub\\webscraping-ml-project\\.venv\\Lib\\site-packages\\transformers\\pipelines\\zero_shot_classification.py:206\u001b[0m, in \u001b[0;36mZeroShotClassificationPipeline.__call__\u001b[1;34m(self, sequences, *args, **kwargs)\u001b[0m\n\u001b[0;32m    203\u001b[0m \u001b[38;5;28;01melse\u001b[39;00m:\n\u001b[0;32m    204\u001b[0m     \u001b[38;5;28;01mraise\u001b[39;00m \u001b[38;5;167;01mValueError\u001b[39;00m(\u001b[38;5;124mf\u001b[39m\u001b[38;5;124m\"\u001b[39m\u001b[38;5;124mUnable to understand extra arguments \u001b[39m\u001b[38;5;132;01m{\u001b[39;00margs\u001b[38;5;132;01m}\u001b[39;00m\u001b[38;5;124m\"\u001b[39m)\n\u001b[1;32m--> 206\u001b[0m \u001b[38;5;28;01mreturn\u001b[39;00m \u001b[38;5;28;43msuper\u001b[39;49m\u001b[43m(\u001b[49m\u001b[43m)\u001b[49m\u001b[38;5;241;43m.\u001b[39;49m\u001b[38;5;21;43m__call__\u001b[39;49m\u001b[43m(\u001b[49m\u001b[43msequences\u001b[49m\u001b[43m,\u001b[49m\u001b[43m \u001b[49m\u001b[38;5;241;43m*\u001b[39;49m\u001b[38;5;241;43m*\u001b[39;49m\u001b[43mkwargs\u001b[49m\u001b[43m)\u001b[49m\n",
      "File \u001b[1;32mc:\\Users\\Joyce\\Documents\\GitHub\\webscraping-ml-project\\.venv\\Lib\\site-packages\\transformers\\pipelines\\base.py:1293\u001b[0m, in \u001b[0;36mPipeline.__call__\u001b[1;34m(self, inputs, num_workers, batch_size, *args, **kwargs)\u001b[0m\n\u001b[0;32m   1291\u001b[0m     \u001b[38;5;28;01mreturn\u001b[39;00m \u001b[38;5;28mself\u001b[39m\u001b[38;5;241m.\u001b[39miterate(inputs, preprocess_params, forward_params, postprocess_params)\n\u001b[0;32m   1292\u001b[0m \u001b[38;5;28;01melif\u001b[39;00m \u001b[38;5;28mself\u001b[39m\u001b[38;5;241m.\u001b[39mframework \u001b[38;5;241m==\u001b[39m \u001b[38;5;124m\"\u001b[39m\u001b[38;5;124mpt\u001b[39m\u001b[38;5;124m\"\u001b[39m \u001b[38;5;129;01mand\u001b[39;00m \u001b[38;5;28misinstance\u001b[39m(\u001b[38;5;28mself\u001b[39m, ChunkPipeline):\n\u001b[1;32m-> 1293\u001b[0m     \u001b[38;5;28;01mreturn\u001b[39;00m \u001b[38;5;28;43mnext\u001b[39;49m\u001b[43m(\u001b[49m\n\u001b[0;32m   1294\u001b[0m \u001b[43m        \u001b[49m\u001b[38;5;28;43miter\u001b[39;49m\u001b[43m(\u001b[49m\n\u001b[0;32m   1295\u001b[0m \u001b[43m            \u001b[49m\u001b[38;5;28;43mself\u001b[39;49m\u001b[38;5;241;43m.\u001b[39;49m\u001b[43mget_iterator\u001b[49m\u001b[43m(\u001b[49m\n\u001b[0;32m   1296\u001b[0m \u001b[43m                \u001b[49m\u001b[43m[\u001b[49m\u001b[43minputs\u001b[49m\u001b[43m]\u001b[49m\u001b[43m,\u001b[49m\u001b[43m \u001b[49m\u001b[43mnum_workers\u001b[49m\u001b[43m,\u001b[49m\u001b[43m \u001b[49m\u001b[43mbatch_size\u001b[49m\u001b[43m,\u001b[49m\u001b[43m \u001b[49m\u001b[43mpreprocess_params\u001b[49m\u001b[43m,\u001b[49m\u001b[43m \u001b[49m\u001b[43mforward_params\u001b[49m\u001b[43m,\u001b[49m\u001b[43m \u001b[49m\u001b[43mpostprocess_params\u001b[49m\n\u001b[0;32m   1297\u001b[0m \u001b[43m            \u001b[49m\u001b[43m)\u001b[49m\n\u001b[0;32m   1298\u001b[0m \u001b[43m        \u001b[49m\u001b[43m)\u001b[49m\n\u001b[0;32m   1299\u001b[0m \u001b[43m    \u001b[49m\u001b[43m)\u001b[49m\n\u001b[0;32m   1300\u001b[0m \u001b[38;5;28;01melse\u001b[39;00m:\n\u001b[0;32m   1301\u001b[0m     \u001b[38;5;28;01mreturn\u001b[39;00m \u001b[38;5;28mself\u001b[39m\u001b[38;5;241m.\u001b[39mrun_single(inputs, preprocess_params, forward_params, postprocess_params)\n",
      "File \u001b[1;32mc:\\Users\\Joyce\\Documents\\GitHub\\webscraping-ml-project\\.venv\\Lib\\site-packages\\transformers\\pipelines\\pt_utils.py:124\u001b[0m, in \u001b[0;36mPipelineIterator.__next__\u001b[1;34m(self)\u001b[0m\n\u001b[0;32m    121\u001b[0m     \u001b[38;5;28;01mreturn\u001b[39;00m \u001b[38;5;28mself\u001b[39m\u001b[38;5;241m.\u001b[39mloader_batch_item()\n\u001b[0;32m    123\u001b[0m \u001b[38;5;66;03m# We're out of items within a batch\u001b[39;00m\n\u001b[1;32m--> 124\u001b[0m item \u001b[38;5;241m=\u001b[39m \u001b[38;5;28;43mnext\u001b[39;49m\u001b[43m(\u001b[49m\u001b[38;5;28;43mself\u001b[39;49m\u001b[38;5;241;43m.\u001b[39;49m\u001b[43miterator\u001b[49m\u001b[43m)\u001b[49m\n\u001b[0;32m    125\u001b[0m processed \u001b[38;5;241m=\u001b[39m \u001b[38;5;28mself\u001b[39m\u001b[38;5;241m.\u001b[39minfer(item, \u001b[38;5;241m*\u001b[39m\u001b[38;5;241m*\u001b[39m\u001b[38;5;28mself\u001b[39m\u001b[38;5;241m.\u001b[39mparams)\n\u001b[0;32m    126\u001b[0m \u001b[38;5;66;03m# We now have a batch of \"inferred things\".\u001b[39;00m\n",
      "File \u001b[1;32mc:\\Users\\Joyce\\Documents\\GitHub\\webscraping-ml-project\\.venv\\Lib\\site-packages\\transformers\\pipelines\\pt_utils.py:269\u001b[0m, in \u001b[0;36mPipelinePackIterator.__next__\u001b[1;34m(self)\u001b[0m\n\u001b[0;32m    266\u001b[0m             \u001b[38;5;28;01mreturn\u001b[39;00m accumulator\n\u001b[0;32m    268\u001b[0m \u001b[38;5;28;01mwhile\u001b[39;00m \u001b[38;5;129;01mnot\u001b[39;00m is_last:\n\u001b[1;32m--> 269\u001b[0m     processed \u001b[38;5;241m=\u001b[39m \u001b[38;5;28mself\u001b[39m\u001b[38;5;241m.\u001b[39minfer(\u001b[38;5;28;43mnext\u001b[39;49m\u001b[43m(\u001b[49m\u001b[38;5;28;43mself\u001b[39;49m\u001b[38;5;241;43m.\u001b[39;49m\u001b[43miterator\u001b[49m\u001b[43m)\u001b[49m, \u001b[38;5;241m*\u001b[39m\u001b[38;5;241m*\u001b[39m\u001b[38;5;28mself\u001b[39m\u001b[38;5;241m.\u001b[39mparams)\n\u001b[0;32m    270\u001b[0m     \u001b[38;5;28;01mif\u001b[39;00m \u001b[38;5;28mself\u001b[39m\u001b[38;5;241m.\u001b[39mloader_batch_size \u001b[38;5;129;01mis\u001b[39;00m \u001b[38;5;129;01mnot\u001b[39;00m \u001b[38;5;28;01mNone\u001b[39;00m:\n\u001b[0;32m    271\u001b[0m         \u001b[38;5;28;01mif\u001b[39;00m \u001b[38;5;28misinstance\u001b[39m(processed, torch\u001b[38;5;241m.\u001b[39mTensor):\n",
      "File \u001b[1;32mc:\\Users\\Joyce\\Documents\\GitHub\\webscraping-ml-project\\.venv\\Lib\\site-packages\\torch\\utils\\data\\dataloader.py:701\u001b[0m, in \u001b[0;36m_BaseDataLoaderIter.__next__\u001b[1;34m(self)\u001b[0m\n\u001b[0;32m    698\u001b[0m \u001b[38;5;28;01mif\u001b[39;00m \u001b[38;5;28mself\u001b[39m\u001b[38;5;241m.\u001b[39m_sampler_iter \u001b[38;5;129;01mis\u001b[39;00m \u001b[38;5;28;01mNone\u001b[39;00m:\n\u001b[0;32m    699\u001b[0m     \u001b[38;5;66;03m# TODO(https://github.com/pytorch/pytorch/issues/76750)\u001b[39;00m\n\u001b[0;32m    700\u001b[0m     \u001b[38;5;28mself\u001b[39m\u001b[38;5;241m.\u001b[39m_reset()  \u001b[38;5;66;03m# type: ignore[call-arg]\u001b[39;00m\n\u001b[1;32m--> 701\u001b[0m data \u001b[38;5;241m=\u001b[39m \u001b[38;5;28;43mself\u001b[39;49m\u001b[38;5;241;43m.\u001b[39;49m\u001b[43m_next_data\u001b[49m\u001b[43m(\u001b[49m\u001b[43m)\u001b[49m\n\u001b[0;32m    702\u001b[0m \u001b[38;5;28mself\u001b[39m\u001b[38;5;241m.\u001b[39m_num_yielded \u001b[38;5;241m+\u001b[39m\u001b[38;5;241m=\u001b[39m \u001b[38;5;241m1\u001b[39m\n\u001b[0;32m    703\u001b[0m \u001b[38;5;28;01mif\u001b[39;00m (\n\u001b[0;32m    704\u001b[0m     \u001b[38;5;28mself\u001b[39m\u001b[38;5;241m.\u001b[39m_dataset_kind \u001b[38;5;241m==\u001b[39m _DatasetKind\u001b[38;5;241m.\u001b[39mIterable\n\u001b[0;32m    705\u001b[0m     \u001b[38;5;129;01mand\u001b[39;00m \u001b[38;5;28mself\u001b[39m\u001b[38;5;241m.\u001b[39m_IterableDataset_len_called \u001b[38;5;129;01mis\u001b[39;00m \u001b[38;5;129;01mnot\u001b[39;00m \u001b[38;5;28;01mNone\u001b[39;00m\n\u001b[0;32m    706\u001b[0m     \u001b[38;5;129;01mand\u001b[39;00m \u001b[38;5;28mself\u001b[39m\u001b[38;5;241m.\u001b[39m_num_yielded \u001b[38;5;241m>\u001b[39m \u001b[38;5;28mself\u001b[39m\u001b[38;5;241m.\u001b[39m_IterableDataset_len_called\n\u001b[0;32m    707\u001b[0m ):\n",
      "File \u001b[1;32mc:\\Users\\Joyce\\Documents\\GitHub\\webscraping-ml-project\\.venv\\Lib\\site-packages\\torch\\utils\\data\\dataloader.py:757\u001b[0m, in \u001b[0;36m_SingleProcessDataLoaderIter._next_data\u001b[1;34m(self)\u001b[0m\n\u001b[0;32m    755\u001b[0m \u001b[38;5;28;01mdef\u001b[39;00m \u001b[38;5;21m_next_data\u001b[39m(\u001b[38;5;28mself\u001b[39m):\n\u001b[0;32m    756\u001b[0m     index \u001b[38;5;241m=\u001b[39m \u001b[38;5;28mself\u001b[39m\u001b[38;5;241m.\u001b[39m_next_index()  \u001b[38;5;66;03m# may raise StopIteration\u001b[39;00m\n\u001b[1;32m--> 757\u001b[0m     data \u001b[38;5;241m=\u001b[39m \u001b[38;5;28;43mself\u001b[39;49m\u001b[38;5;241;43m.\u001b[39;49m\u001b[43m_dataset_fetcher\u001b[49m\u001b[38;5;241;43m.\u001b[39;49m\u001b[43mfetch\u001b[49m\u001b[43m(\u001b[49m\u001b[43mindex\u001b[49m\u001b[43m)\u001b[49m  \u001b[38;5;66;03m# may raise StopIteration\u001b[39;00m\n\u001b[0;32m    758\u001b[0m     \u001b[38;5;28;01mif\u001b[39;00m \u001b[38;5;28mself\u001b[39m\u001b[38;5;241m.\u001b[39m_pin_memory:\n\u001b[0;32m    759\u001b[0m         data \u001b[38;5;241m=\u001b[39m _utils\u001b[38;5;241m.\u001b[39mpin_memory\u001b[38;5;241m.\u001b[39mpin_memory(data, \u001b[38;5;28mself\u001b[39m\u001b[38;5;241m.\u001b[39m_pin_memory_device)\n",
      "File \u001b[1;32mc:\\Users\\Joyce\\Documents\\GitHub\\webscraping-ml-project\\.venv\\Lib\\site-packages\\torch\\utils\\data\\_utils\\fetch.py:33\u001b[0m, in \u001b[0;36m_IterableDatasetFetcher.fetch\u001b[1;34m(self, possibly_batched_index)\u001b[0m\n\u001b[0;32m     31\u001b[0m \u001b[38;5;28;01mfor\u001b[39;00m _ \u001b[38;5;129;01min\u001b[39;00m possibly_batched_index:\n\u001b[0;32m     32\u001b[0m     \u001b[38;5;28;01mtry\u001b[39;00m:\n\u001b[1;32m---> 33\u001b[0m         data\u001b[38;5;241m.\u001b[39mappend(\u001b[38;5;28;43mnext\u001b[39;49m\u001b[43m(\u001b[49m\u001b[38;5;28;43mself\u001b[39;49m\u001b[38;5;241;43m.\u001b[39;49m\u001b[43mdataset_iter\u001b[49m\u001b[43m)\u001b[49m)\n\u001b[0;32m     34\u001b[0m     \u001b[38;5;28;01mexcept\u001b[39;00m \u001b[38;5;167;01mStopIteration\u001b[39;00m:\n\u001b[0;32m     35\u001b[0m         \u001b[38;5;28mself\u001b[39m\u001b[38;5;241m.\u001b[39mended \u001b[38;5;241m=\u001b[39m \u001b[38;5;28;01mTrue\u001b[39;00m\n",
      "File \u001b[1;32mc:\\Users\\Joyce\\Documents\\GitHub\\webscraping-ml-project\\.venv\\Lib\\site-packages\\transformers\\pipelines\\pt_utils.py:186\u001b[0m, in \u001b[0;36mPipelineChunkIterator.__next__\u001b[1;34m(self)\u001b[0m\n\u001b[0;32m    183\u001b[0m     \u001b[38;5;28mself\u001b[39m\u001b[38;5;241m.\u001b[39msubiterator \u001b[38;5;241m=\u001b[39m \u001b[38;5;28mself\u001b[39m\u001b[38;5;241m.\u001b[39minfer(\u001b[38;5;28mnext\u001b[39m(\u001b[38;5;28mself\u001b[39m\u001b[38;5;241m.\u001b[39miterator), \u001b[38;5;241m*\u001b[39m\u001b[38;5;241m*\u001b[39m\u001b[38;5;28mself\u001b[39m\u001b[38;5;241m.\u001b[39mparams)\n\u001b[0;32m    184\u001b[0m \u001b[38;5;28;01mtry\u001b[39;00m:\n\u001b[0;32m    185\u001b[0m     \u001b[38;5;66;03m# Try to return next item\u001b[39;00m\n\u001b[1;32m--> 186\u001b[0m     processed \u001b[38;5;241m=\u001b[39m \u001b[38;5;28;43mnext\u001b[39;49m\u001b[43m(\u001b[49m\u001b[38;5;28;43mself\u001b[39;49m\u001b[38;5;241;43m.\u001b[39;49m\u001b[43msubiterator\u001b[49m\u001b[43m)\u001b[49m\n\u001b[0;32m    187\u001b[0m \u001b[38;5;28;01mexcept\u001b[39;00m \u001b[38;5;167;01mStopIteration\u001b[39;00m:\n\u001b[0;32m    188\u001b[0m     \u001b[38;5;66;03m# When a preprocess iterator ends, we can start lookig at the next item\u001b[39;00m\n\u001b[0;32m    189\u001b[0m     \u001b[38;5;66;03m# ChunkIterator will keep feeding until ALL elements of iterator\u001b[39;00m\n\u001b[1;32m   (...)\u001b[0m\n\u001b[0;32m    192\u001b[0m     \u001b[38;5;66;03m# Another way to look at it, is we're basically flattening lists of lists\u001b[39;00m\n\u001b[0;32m    193\u001b[0m     \u001b[38;5;66;03m# into a single list, but with generators\u001b[39;00m\n\u001b[0;32m    194\u001b[0m     \u001b[38;5;28mself\u001b[39m\u001b[38;5;241m.\u001b[39msubiterator \u001b[38;5;241m=\u001b[39m \u001b[38;5;28mself\u001b[39m\u001b[38;5;241m.\u001b[39minfer(\u001b[38;5;28mnext\u001b[39m(\u001b[38;5;28mself\u001b[39m\u001b[38;5;241m.\u001b[39miterator), \u001b[38;5;241m*\u001b[39m\u001b[38;5;241m*\u001b[39m\u001b[38;5;28mself\u001b[39m\u001b[38;5;241m.\u001b[39mparams)\n",
      "File \u001b[1;32mc:\\Users\\Joyce\\Documents\\GitHub\\webscraping-ml-project\\.venv\\Lib\\site-packages\\transformers\\pipelines\\zero_shot_classification.py:209\u001b[0m, in \u001b[0;36mZeroShotClassificationPipeline.preprocess\u001b[1;34m(self, inputs, candidate_labels, hypothesis_template)\u001b[0m\n\u001b[0;32m    208\u001b[0m \u001b[38;5;28;01mdef\u001b[39;00m \u001b[38;5;21mpreprocess\u001b[39m(\u001b[38;5;28mself\u001b[39m, inputs, candidate_labels\u001b[38;5;241m=\u001b[39m\u001b[38;5;28;01mNone\u001b[39;00m, hypothesis_template\u001b[38;5;241m=\u001b[39m\u001b[38;5;124m\"\u001b[39m\u001b[38;5;124mThis example is \u001b[39m\u001b[38;5;132;01m{}\u001b[39;00m\u001b[38;5;124m.\u001b[39m\u001b[38;5;124m\"\u001b[39m):\n\u001b[1;32m--> 209\u001b[0m     sequence_pairs, sequences \u001b[38;5;241m=\u001b[39m \u001b[38;5;28;43mself\u001b[39;49m\u001b[38;5;241;43m.\u001b[39;49m\u001b[43m_args_parser\u001b[49m\u001b[43m(\u001b[49m\u001b[43minputs\u001b[49m\u001b[43m,\u001b[49m\u001b[43m \u001b[49m\u001b[43mcandidate_labels\u001b[49m\u001b[43m,\u001b[49m\u001b[43m \u001b[49m\u001b[43mhypothesis_template\u001b[49m\u001b[43m)\u001b[49m\n\u001b[0;32m    211\u001b[0m     \u001b[38;5;28;01mfor\u001b[39;00m i, (candidate_label, sequence_pair) \u001b[38;5;129;01min\u001b[39;00m \u001b[38;5;28menumerate\u001b[39m(\u001b[38;5;28mzip\u001b[39m(candidate_labels, sequence_pairs)):\n\u001b[0;32m    212\u001b[0m         model_input \u001b[38;5;241m=\u001b[39m \u001b[38;5;28mself\u001b[39m\u001b[38;5;241m.\u001b[39m_parse_and_tokenize([sequence_pair])\n",
      "File \u001b[1;32mc:\\Users\\Joyce\\Documents\\GitHub\\webscraping-ml-project\\.venv\\Lib\\site-packages\\transformers\\pipelines\\zero_shot_classification.py:27\u001b[0m, in \u001b[0;36mZeroShotClassificationArgumentHandler.__call__\u001b[1;34m(self, sequences, labels, hypothesis_template)\u001b[0m\n\u001b[0;32m     25\u001b[0m \u001b[38;5;28;01mdef\u001b[39;00m \u001b[38;5;21m__call__\u001b[39m(\u001b[38;5;28mself\u001b[39m, sequences, labels, hypothesis_template):\n\u001b[0;32m     26\u001b[0m     \u001b[38;5;28;01mif\u001b[39;00m \u001b[38;5;28mlen\u001b[39m(labels) \u001b[38;5;241m==\u001b[39m \u001b[38;5;241m0\u001b[39m \u001b[38;5;129;01mor\u001b[39;00m \u001b[38;5;28mlen\u001b[39m(sequences) \u001b[38;5;241m==\u001b[39m \u001b[38;5;241m0\u001b[39m:\n\u001b[1;32m---> 27\u001b[0m         \u001b[38;5;28;01mraise\u001b[39;00m \u001b[38;5;167;01mValueError\u001b[39;00m(\u001b[38;5;124m\"\u001b[39m\u001b[38;5;124mYou must include at least one label and at least one sequence.\u001b[39m\u001b[38;5;124m\"\u001b[39m)\n\u001b[0;32m     28\u001b[0m     \u001b[38;5;28;01mif\u001b[39;00m hypothesis_template\u001b[38;5;241m.\u001b[39mformat(labels[\u001b[38;5;241m0\u001b[39m]) \u001b[38;5;241m==\u001b[39m hypothesis_template:\n\u001b[0;32m     29\u001b[0m         \u001b[38;5;28;01mraise\u001b[39;00m \u001b[38;5;167;01mValueError\u001b[39;00m(\n\u001b[0;32m     30\u001b[0m             (\n\u001b[0;32m     31\u001b[0m                 \u001b[38;5;124m'\u001b[39m\u001b[38;5;124mThe provided hypothesis_template \u001b[39m\u001b[38;5;124m\"\u001b[39m\u001b[38;5;132;01m{}\u001b[39;00m\u001b[38;5;124m\"\u001b[39m\u001b[38;5;124m was not able to be formatted with the target labels. \u001b[39m\u001b[38;5;124m'\u001b[39m\n\u001b[0;32m     32\u001b[0m                 \u001b[38;5;124m\"\u001b[39m\u001b[38;5;124mMake sure the passed template includes formatting syntax such as \u001b[39m\u001b[38;5;124m{{\u001b[39m\u001b[38;5;124m}} where the label should go.\u001b[39m\u001b[38;5;124m\"\u001b[39m\n\u001b[0;32m     33\u001b[0m             )\u001b[38;5;241m.\u001b[39mformat(hypothesis_template)\n\u001b[0;32m     34\u001b[0m         )\n",
      "\u001b[1;31mValueError\u001b[0m: You must include at least one label and at least one sequence."
     ]
    }
   ],
   "source": [
    "# Example Usage\n",
    "history = None\n",
    "#recommendation_system = RecommendationSystem(restaurant_data)  # Your defined system\n",
    "\n",
    "# Chat loop\n",
    "while True:\n",
    "    user_input = input(\"You: \")\n",
    "    if not user_input:\n",
    "        user_input = \"\"\n",
    "    print(f\"You: {user_input}\")\n",
    "    if user_input.lower() in [\"exit\", \"quit\"]:\n",
    "        print(\"Chatbot: Goodbye!\")\n",
    "        break\n",
    "    response, history = chat_with_user(user_input, history)\n",
    "    print(f\"Chatbot: {response}\")"
   ]
  },
  {
   "cell_type": "code",
   "execution_count": 108,
   "metadata": {},
   "outputs": [
    {
     "data": {
      "text/html": [
       "<div>\n",
       "<style scoped>\n",
       "    .dataframe tbody tr th:only-of-type {\n",
       "        vertical-align: middle;\n",
       "    }\n",
       "\n",
       "    .dataframe tbody tr th {\n",
       "        vertical-align: top;\n",
       "    }\n",
       "\n",
       "    .dataframe thead th {\n",
       "        text-align: right;\n",
       "    }\n",
       "</style>\n",
       "<table border=\"1\" class=\"dataframe\">\n",
       "  <thead>\n",
       "    <tr style=\"text-align: right;\">\n",
       "      <th></th>\n",
       "      <th>restaurant_id</th>\n",
       "      <th>restaurant_name</th>\n",
       "      <th>source</th>\n",
       "      <th>author</th>\n",
       "      <th>rating</th>\n",
       "      <th>text</th>\n",
       "      <th>timestamp</th>\n",
       "      <th>sentiment</th>\n",
       "      <th>confidence</th>\n",
       "      <th>embedding</th>\n",
       "    </tr>\n",
       "  </thead>\n",
       "  <tbody>\n",
       "    <tr>\n",
       "      <th>397</th>\n",
       "      <td>110069</td>\n",
       "      <td>The BARN</td>\n",
       "      <td>Google</td>\n",
       "      <td>Sevgi Zeynep Zarbun</td>\n",
       "      <td>5.0</td>\n",
       "      <td>Go get married :)</td>\n",
       "      <td>2018-01-06 09:58:44.001000+00:00</td>\n",
       "      <td>POSITIVE</td>\n",
       "      <td>0.994185</td>\n",
       "      <td>[tensor(0.0015), tensor(0.0686), tensor(-0.032...</td>\n",
       "    </tr>\n",
       "    <tr>\n",
       "      <th>398</th>\n",
       "      <td>110069</td>\n",
       "      <td>The BARN</td>\n",
       "      <td>Google</td>\n",
       "      <td>Hakan yılmaz</td>\n",
       "      <td>5.0</td>\n",
       "      <td>A place for family, friends and business meetings</td>\n",
       "      <td>2022-10-27 11:44:06.317337+00:00</td>\n",
       "      <td>POSITIVE</td>\n",
       "      <td>0.999785</td>\n",
       "      <td>[tensor(-0.0120), tensor(0.0242), tensor(-0.01...</td>\n",
       "    </tr>\n",
       "    <tr>\n",
       "      <th>399</th>\n",
       "      <td>110069</td>\n",
       "      <td>The BARN</td>\n",
       "      <td>Google</td>\n",
       "      <td>Kerem Sevim</td>\n",
       "      <td>5.0</td>\n",
       "      <td>NaN</td>\n",
       "      <td>2024-11-26 21:39:51.536794+00:00</td>\n",
       "      <td>POSITIVE</td>\n",
       "      <td>0.748121</td>\n",
       "      <td>[tensor(-0.0125), tensor(0.0614), tensor(-0.00...</td>\n",
       "    </tr>\n",
       "    <tr>\n",
       "      <th>400</th>\n",
       "      <td>110069</td>\n",
       "      <td>The BARN</td>\n",
       "      <td>Reddit</td>\n",
       "      <td>Anonymous</td>\n",
       "      <td>NaN</td>\n",
       "      <td>Chicken in the Waffle from the Minnesota State...</td>\n",
       "      <td>NaN</td>\n",
       "      <td>NEGATIVE</td>\n",
       "      <td>0.988732</td>\n",
       "      <td>[tensor(0.0160), tensor(0.0150), tensor(-0.005...</td>\n",
       "    </tr>\n",
       "    <tr>\n",
       "      <th>401</th>\n",
       "      <td>110069</td>\n",
       "      <td>The BARN</td>\n",
       "      <td>Reddit</td>\n",
       "      <td>Anonymous</td>\n",
       "      <td>NaN</td>\n",
       "      <td>Cacciatorini (little hunter sausages) hanging ...</td>\n",
       "      <td>NaN</td>\n",
       "      <td>NEGATIVE</td>\n",
       "      <td>0.999645</td>\n",
       "      <td>[tensor(0.0080), tensor(0.0301), tensor(0.0006...</td>\n",
       "    </tr>\n",
       "    <tr>\n",
       "      <th>402</th>\n",
       "      <td>110069</td>\n",
       "      <td>The BARN</td>\n",
       "      <td>Reddit</td>\n",
       "      <td>Anonymous</td>\n",
       "      <td>NaN</td>\n",
       "      <td>I saw this hot dog idea somewhere on the inter...</td>\n",
       "      <td>NaN</td>\n",
       "      <td>POSITIVE</td>\n",
       "      <td>0.999092</td>\n",
       "      <td>[tensor(-0.0259), tensor(0.0216), tensor(0.020...</td>\n",
       "    </tr>\n",
       "    <tr>\n",
       "      <th>403</th>\n",
       "      <td>110069</td>\n",
       "      <td>The BARN</td>\n",
       "      <td>Reddit</td>\n",
       "      <td>Anonymous</td>\n",
       "      <td>NaN</td>\n",
       "      <td>Has anyone done the Chef in Residence at Stone...</td>\n",
       "      <td>NaN</td>\n",
       "      <td>NEGATIVE</td>\n",
       "      <td>0.878992</td>\n",
       "      <td>[tensor(-0.0183), tensor(0.0790), tensor(0.000...</td>\n",
       "    </tr>\n",
       "    <tr>\n",
       "      <th>404</th>\n",
       "      <td>110069</td>\n",
       "      <td>The BARN</td>\n",
       "      <td>Reddit</td>\n",
       "      <td>Anonymous</td>\n",
       "      <td>NaN</td>\n",
       "      <td>The best plant-focused fine dining experiences...</td>\n",
       "      <td>NaN</td>\n",
       "      <td>POSITIVE</td>\n",
       "      <td>0.999517</td>\n",
       "      <td>[tensor(-0.0140), tensor(0.0771), tensor(0.014...</td>\n",
       "    </tr>\n",
       "    <tr>\n",
       "      <th>405</th>\n",
       "      <td>110069</td>\n",
       "      <td>The BARN</td>\n",
       "      <td>Reddit</td>\n",
       "      <td>Anonymous</td>\n",
       "      <td>NaN</td>\n",
       "      <td>Fine dining destination in the US outside big ...</td>\n",
       "      <td>NaN</td>\n",
       "      <td>POSITIVE</td>\n",
       "      <td>0.796279</td>\n",
       "      <td>[tensor(-0.0412), tensor(-0.0041), tensor(-0.0...</td>\n",
       "    </tr>\n",
       "  </tbody>\n",
       "</table>\n",
       "</div>"
      ],
      "text/plain": [
       "     restaurant_id restaurant_name  source               author  rating  \\\n",
       "397         110069        The BARN  Google  Sevgi Zeynep Zarbun     5.0   \n",
       "398         110069        The BARN  Google         Hakan yılmaz     5.0   \n",
       "399         110069        The BARN  Google          Kerem Sevim     5.0   \n",
       "400         110069        The BARN  Reddit            Anonymous     NaN   \n",
       "401         110069        The BARN  Reddit            Anonymous     NaN   \n",
       "402         110069        The BARN  Reddit            Anonymous     NaN   \n",
       "403         110069        The BARN  Reddit            Anonymous     NaN   \n",
       "404         110069        The BARN  Reddit            Anonymous     NaN   \n",
       "405         110069        The BARN  Reddit            Anonymous     NaN   \n",
       "\n",
       "                                                  text  \\\n",
       "397                                  Go get married :)   \n",
       "398  A place for family, friends and business meetings   \n",
       "399                                                NaN   \n",
       "400  Chicken in the Waffle from the Minnesota State...   \n",
       "401  Cacciatorini (little hunter sausages) hanging ...   \n",
       "402  I saw this hot dog idea somewhere on the inter...   \n",
       "403  Has anyone done the Chef in Residence at Stone...   \n",
       "404  The best plant-focused fine dining experiences...   \n",
       "405  Fine dining destination in the US outside big ...   \n",
       "\n",
       "                            timestamp sentiment  confidence  \\\n",
       "397  2018-01-06 09:58:44.001000+00:00  POSITIVE    0.994185   \n",
       "398  2022-10-27 11:44:06.317337+00:00  POSITIVE    0.999785   \n",
       "399  2024-11-26 21:39:51.536794+00:00  POSITIVE    0.748121   \n",
       "400                               NaN  NEGATIVE    0.988732   \n",
       "401                               NaN  NEGATIVE    0.999645   \n",
       "402                               NaN  POSITIVE    0.999092   \n",
       "403                               NaN  NEGATIVE    0.878992   \n",
       "404                               NaN  POSITIVE    0.999517   \n",
       "405                               NaN  POSITIVE    0.796279   \n",
       "\n",
       "                                             embedding  \n",
       "397  [tensor(0.0015), tensor(0.0686), tensor(-0.032...  \n",
       "398  [tensor(-0.0120), tensor(0.0242), tensor(-0.01...  \n",
       "399  [tensor(-0.0125), tensor(0.0614), tensor(-0.00...  \n",
       "400  [tensor(0.0160), tensor(0.0150), tensor(-0.005...  \n",
       "401  [tensor(0.0080), tensor(0.0301), tensor(0.0006...  \n",
       "402  [tensor(-0.0259), tensor(0.0216), tensor(0.020...  \n",
       "403  [tensor(-0.0183), tensor(0.0790), tensor(0.000...  \n",
       "404  [tensor(-0.0140), tensor(0.0771), tensor(0.014...  \n",
       "405  [tensor(-0.0412), tensor(-0.0041), tensor(-0.0...  "
      ]
     },
     "execution_count": 108,
     "metadata": {},
     "output_type": "execute_result"
    }
   ],
   "source": [
    "reviews_df[reviews_df['restaurant_name'] == 'The BARN']"
   ]
  }
 ],
 "metadata": {
  "kernelspec": {
   "display_name": ".venv",
   "language": "python",
   "name": "python3"
  },
  "language_info": {
   "codemirror_mode": {
    "name": "ipython",
    "version": 3
   },
   "file_extension": ".py",
   "mimetype": "text/x-python",
   "name": "python",
   "nbconvert_exporter": "python",
   "pygments_lexer": "ipython3",
   "version": "3.12.5"
  }
 },
 "nbformat": 4,
 "nbformat_minor": 2
}
